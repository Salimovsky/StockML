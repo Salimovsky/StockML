{
 "cells": [
  {
   "cell_type": "markdown",
   "metadata": {
    "colab_type": "text",
    "id": "view-in-github"
   },
   "source": [
    "<a href=\"https://colab.research.google.com/github/Salimovsky/StockML/blob/master/Microsoft_stock_price_prediction.ipynb\" target=\"_parent\"><img src=\"https://colab.research.google.com/assets/colab-badge.svg\" alt=\"Open In Colab\"/></a>"
   ]
  },
  {
   "cell_type": "markdown",
   "metadata": {
    "colab_type": "text",
    "id": "pa49bUnKyRgF"
   },
   "source": [
    "# Microsoft stock price prediction"
   ]
  },
  {
   "cell_type": "markdown",
   "metadata": {
    "colab_type": "text",
    "id": "11Ilg92myRcw"
   },
   "source": [
    "<table class=\"tfo-notebook-buttons\" align=\"left\">\n",
    "\n",
    "  <td>\n",
    "    <a target=\"_blank\" href=\"https://colab.research.google.com/drive/1F8Dxp97s91mtbj8ipbcgZCZhb6k34bVY#scrollTo=pa49bUnKyRgF\"><img src=\"https://www.tensorflow.org/images/colab_logo_32px.png\" />Run in Google Colab</a>\n",
    "  </td>\n",
    "  <td>\n",
    "    <a target=\"_blank\" href=\"https://github.com/Salimovsky/StockML/blob/master/Microsoft_stock_price_prediction.ipynb\"><img src=\"https://www.tensorflow.org/images/GitHub-Mark-32px.png\" />View source on GitHub</a>\n",
    "  </td>\n",
    "</table>"
   ]
  },
  {
   "cell_type": "markdown",
   "metadata": {
    "colab_type": "text",
    "id": "GU8C5qm_4vZb"
   },
   "source": [
    "This an initial attempt to predict stock market movement of a specific stock by using time series prediction using Recurrent Neural Networks (RNNs). This is covered in two parts: first, we will forecast a univariate time series, then we will forecast a multivariate time series."
   ]
  },
  {
   "cell_type": "code",
   "execution_count": 96,
   "metadata": {
    "colab": {
     "base_uri": "https://localhost:8080/",
     "height": 34
    },
    "colab_type": "code",
    "id": "CnK9-PsTJVx5",
    "outputId": "0ac55dc0-485c-4610-c3d9-630497c271d8"
   },
   "outputs": [
    {
     "name": "stdout",
     "output_type": "stream",
     "text": [
      "Uncomment this code to install TA-Lib first time you run this script!\n"
     ]
    }
   ],
   "source": [
    "## Install TA library module:\n",
    "def install_TA_Lib():\n",
    "  # use this if running on dedicated server machine (ex: JupiterLab)\n",
    "  # !wget http://prdownloads.sourceforge.net/ta-lib/ta-lib-0.4.0-src.tar.gz\n",
    "  # !tar -xzvf ta-lib-0.4.0-src.tar.gz\n",
    "  # %cd ta-lib\n",
    "  # !./configure --prefix=/usr\n",
    "  # !make\n",
    "  # !make install\n",
    "  # !pip install Ta-Lib\n",
    "\n",
    "  # OR install TA lib binary, in case running on Colab (no dedicated server machine)\n",
    "  # !wget https://launchpad.net/~mario-mariomedina/+archive/ubuntu/talib/+files/libta-lib0_0.4.0-oneiric1_amd64.deb -qO libta.deb\n",
    "  # !wget https://launchpad.net/~mario-mariomedina/+archive/ubuntu/talib/+files/ta-lib0-dev_0.4.0-oneiric1_amd64.deb -qO ta.deb\n",
    "  # !dpkg -i libta.deb ta.deb\n",
    "  # !pip install Ta-Lib\n",
    "  print(\"Uncomment this code to install TA-Lib first time you run this script!\")\n",
    "\n",
    "install_TA_Lib()"
   ]
  },
  {
   "cell_type": "code",
   "execution_count": 97,
   "metadata": {
    "colab": {},
    "colab_type": "code",
    "id": "7rZnJaGTWQw0"
   },
   "outputs": [],
   "source": [
    "import tensorflow as tf\n",
    "\n",
    "import sys\n",
    "import matplotlib as mpl\n",
    "import matplotlib.pyplot as plt\n",
    "import numpy as np\n",
    "import os\n",
    "import pandas as pd\n",
    "import talib\n",
    "from tensorflow.python.keras.initializers import RandomUniform\n",
    "\n",
    "from tensorflow.keras.models import Sequential\n",
    "from tensorflow.keras.layers import Input, Dense, GRU, LSTM\n",
    "from tensorflow.keras.optimizers import RMSprop\n",
    "from tensorflow.keras.callbacks import EarlyStopping, ModelCheckpoint, TensorBoard, ReduceLROnPlateau\n",
    "\n",
    "mpl.rcParams['figure.figsize'] = (12, 6)\n",
    "mpl.rcParams['axes.grid'] = False"
   ]
  },
  {
   "cell_type": "markdown",
   "metadata": {
    "colab_type": "text",
    "id": "TokBlnUhWFw9"
   },
   "source": [
    "## Microsoft stock dataset\n",
    "This project uses data from <a href=\"https://polygon.io/\" class=\"external\">Polygon Financial data platform</a> fetched using a kotlin client program of Polygon Rest API <a href=\"https://polygon.io/docs/#get_v2_aggs_ticker__ticker__range__multiplier___timespan___from___to__anchor\" class=\"external\"></a>.\n",
    "\n",
    "This dataset contains 33 different features such as price, volume, time, moving average, and OCHL. These were aggregates of trades for every 1 minute, beginning in 2019/01/01. This dataset was prepared by me for the purpose of this project.\n",
    "\n",
    "MSFT timestampMs, \n",
    "MSFT monthOfYear, \n",
    "MSFT dayOfMonth, \n",
    "MSFT dayOfWeek, \n",
    "MSFT hourOfDay, \n",
    "MSFT minuteOfHour, \n",
    "MSFT volume, \n",
    "MSFT weightedPrice, \n",
    "MSFT open, \n",
    "MSFT high, \n",
    "MSFT low, \n",
    "MSFT close, \n",
    "MSFT Days Avg 3 Low, \n",
    "MSFT Days Avg 3 Weighted, \n",
    "MSFT Days Avg 3 High, \n",
    "MSFT Days Avg 5 Low, \n",
    "MSFT Days Avg 5 Weighted, \n",
    "MSFT Days Avg 5 High, \n",
    "MSFT Days Avg 10 Low, \n",
    "MSFT Days Avg 10 Weighted, \n",
    "MSFT Days Avg 10 High, \n",
    "MSFT Days Avg 20 Low, \n",
    "MSFT Days Avg 20 Weighted, \n",
    "MSFT Days Avg 20 High, \n",
    "MSFT Days Avg 50 Low, \n",
    "MSFT Days Avg 50 Weighted, \n",
    "MSFT Days Avg 50 High, \n",
    "MSFT Days Avg 100 Low, \n",
    "MSFT Days Avg 100 Weighted, \n",
    "MSFT Days Avg 100 High, \n",
    "MSFT Days Avg 200 Low, \n",
    "MSFT Days Avg 200 Weighted, \n",
    "MSFT Days Avg 200 High, "
   ]
  },
  {
   "cell_type": "code",
   "execution_count": 98,
   "metadata": {
    "colab": {},
    "colab_type": "code",
    "id": "xyv_i85IWInT"
   },
   "outputs": [],
   "source": [
    "# The raw dat file is located in my personal google drive, and is shared to the public. Please email me at salim.addi@gmail.com if You can't download the file anymore!\n",
    "# uncomment this line to remove cached file if you need to reload an updated version of raw data file\n",
    "#!rm ~/.keras/datasets/MSFT.csv\n",
    "file_path = tf.keras.utils.get_file(\n",
    "    origin='https://docs.google.com/uc?export=download&id=14Y3yvzY8CEIIg-C4vX4HsSwJxGU3sx7B',\n",
    "    fname='MSFT.csv',\n",
    "    extract=False)\n",
    "df = pd.read_csv(file_path, sep='|')"
   ]
  },
  {
   "cell_type": "markdown",
   "metadata": {
    "colab_type": "text",
    "id": "VdbOWXiTWM2T"
   },
   "source": [
    "Let's take a glance at the data."
   ]
  },
  {
   "cell_type": "code",
   "execution_count": 99,
   "metadata": {
    "colab": {
     "base_uri": "https://localhost:8080/",
     "height": 304
    },
    "colab_type": "code",
    "id": "ojHE-iCCWIhz",
    "outputId": "f32cc7aa-3366-45c5-cffe-d593f3d4b832"
   },
   "outputs": [
    {
     "data": {
      "text/html": [
       "<div>\n",
       "<style scoped>\n",
       "    .dataframe tbody tr th:only-of-type {\n",
       "        vertical-align: middle;\n",
       "    }\n",
       "\n",
       "    .dataframe tbody tr th {\n",
       "        vertical-align: top;\n",
       "    }\n",
       "\n",
       "    .dataframe thead th {\n",
       "        text-align: right;\n",
       "    }\n",
       "</style>\n",
       "<table border=\"1\" class=\"dataframe\">\n",
       "  <thead>\n",
       "    <tr style=\"text-align: right;\">\n",
       "      <th></th>\n",
       "      <th>MSFT timestampMs</th>\n",
       "      <th>MSFT monthOfYear</th>\n",
       "      <th>MSFT dayOfMonth</th>\n",
       "      <th>MSFT dayOfWeek</th>\n",
       "      <th>MSFT hourOfDay</th>\n",
       "      <th>MSFT minuteOfHour</th>\n",
       "      <th>MSFT volume</th>\n",
       "      <th>MSFT weightedPrice</th>\n",
       "      <th>MSFT open</th>\n",
       "      <th>MSFT high</th>\n",
       "      <th>...</th>\n",
       "      <th>MSFT Days Avg 20 High</th>\n",
       "      <th>MSFT Days Avg 50 Low</th>\n",
       "      <th>MSFT Days Avg 50 Weighted</th>\n",
       "      <th>MSFT Days Avg 50 High</th>\n",
       "      <th>MSFT Days Avg 100 Low</th>\n",
       "      <th>MSFT Days Avg 100 Weighted</th>\n",
       "      <th>MSFT Days Avg 100 High</th>\n",
       "      <th>MSFT Days Avg 200 Low</th>\n",
       "      <th>MSFT Days Avg 200 Weighted</th>\n",
       "      <th>MSFT Days Avg 200 High</th>\n",
       "    </tr>\n",
       "  </thead>\n",
       "  <tbody>\n",
       "    <tr>\n",
       "      <th>0</th>\n",
       "      <td>1546419600000</td>\n",
       "      <td>1</td>\n",
       "      <td>2</td>\n",
       "      <td>4</td>\n",
       "      <td>3</td>\n",
       "      <td>0</td>\n",
       "      <td>387.0</td>\n",
       "      <td>99.4000</td>\n",
       "      <td>99.40</td>\n",
       "      <td>99.40</td>\n",
       "      <td>...</td>\n",
       "      <td>106.233088</td>\n",
       "      <td>103.639316</td>\n",
       "      <td>105.459754</td>\n",
       "      <td>107.401061</td>\n",
       "      <td>105.840074</td>\n",
       "      <td>107.397918</td>\n",
       "      <td>109.023975</td>\n",
       "      <td>101.771254</td>\n",
       "      <td>103.103047</td>\n",
       "      <td>104.459615</td>\n",
       "    </tr>\n",
       "    <tr>\n",
       "      <th>1</th>\n",
       "      <td>1546419840000</td>\n",
       "      <td>1</td>\n",
       "      <td>2</td>\n",
       "      <td>4</td>\n",
       "      <td>3</td>\n",
       "      <td>4</td>\n",
       "      <td>371.0</td>\n",
       "      <td>98.9013</td>\n",
       "      <td>98.88</td>\n",
       "      <td>98.88</td>\n",
       "      <td>...</td>\n",
       "      <td>106.233088</td>\n",
       "      <td>103.639316</td>\n",
       "      <td>105.459754</td>\n",
       "      <td>107.401061</td>\n",
       "      <td>105.840074</td>\n",
       "      <td>107.397918</td>\n",
       "      <td>109.023975</td>\n",
       "      <td>101.771254</td>\n",
       "      <td>103.103047</td>\n",
       "      <td>104.459615</td>\n",
       "    </tr>\n",
       "    <tr>\n",
       "      <th>2</th>\n",
       "      <td>1546420320000</td>\n",
       "      <td>1</td>\n",
       "      <td>2</td>\n",
       "      <td>4</td>\n",
       "      <td>3</td>\n",
       "      <td>12</td>\n",
       "      <td>100.0</td>\n",
       "      <td>99.2000</td>\n",
       "      <td>99.20</td>\n",
       "      <td>99.20</td>\n",
       "      <td>...</td>\n",
       "      <td>106.233088</td>\n",
       "      <td>103.639316</td>\n",
       "      <td>105.459754</td>\n",
       "      <td>107.401061</td>\n",
       "      <td>105.840074</td>\n",
       "      <td>107.397918</td>\n",
       "      <td>109.023975</td>\n",
       "      <td>101.771254</td>\n",
       "      <td>103.103047</td>\n",
       "      <td>104.459615</td>\n",
       "    </tr>\n",
       "    <tr>\n",
       "      <th>3</th>\n",
       "      <td>1546420500000</td>\n",
       "      <td>1</td>\n",
       "      <td>2</td>\n",
       "      <td>4</td>\n",
       "      <td>3</td>\n",
       "      <td>15</td>\n",
       "      <td>380.0</td>\n",
       "      <td>99.2000</td>\n",
       "      <td>99.20</td>\n",
       "      <td>99.20</td>\n",
       "      <td>...</td>\n",
       "      <td>106.233088</td>\n",
       "      <td>103.639316</td>\n",
       "      <td>105.459754</td>\n",
       "      <td>107.401061</td>\n",
       "      <td>105.840074</td>\n",
       "      <td>107.397918</td>\n",
       "      <td>109.023975</td>\n",
       "      <td>101.771254</td>\n",
       "      <td>103.103047</td>\n",
       "      <td>104.459615</td>\n",
       "    </tr>\n",
       "    <tr>\n",
       "      <th>4</th>\n",
       "      <td>1546420980000</td>\n",
       "      <td>1</td>\n",
       "      <td>2</td>\n",
       "      <td>4</td>\n",
       "      <td>3</td>\n",
       "      <td>23</td>\n",
       "      <td>188.0</td>\n",
       "      <td>99.2330</td>\n",
       "      <td>99.20</td>\n",
       "      <td>99.20</td>\n",
       "      <td>...</td>\n",
       "      <td>106.233088</td>\n",
       "      <td>103.639316</td>\n",
       "      <td>105.459754</td>\n",
       "      <td>107.401061</td>\n",
       "      <td>105.840074</td>\n",
       "      <td>107.397918</td>\n",
       "      <td>109.023975</td>\n",
       "      <td>101.771254</td>\n",
       "      <td>103.103047</td>\n",
       "      <td>104.459615</td>\n",
       "    </tr>\n",
       "  </tbody>\n",
       "</table>\n",
       "<p>5 rows × 33 columns</p>\n",
       "</div>"
      ],
      "text/plain": [
       "   MSFT timestampMs  MSFT monthOfYear  MSFT dayOfMonth  MSFT dayOfWeek  \\\n",
       "0     1546419600000                 1                2               4   \n",
       "1     1546419840000                 1                2               4   \n",
       "2     1546420320000                 1                2               4   \n",
       "3     1546420500000                 1                2               4   \n",
       "4     1546420980000                 1                2               4   \n",
       "\n",
       "   MSFT hourOfDay  MSFT minuteOfHour  MSFT volume  MSFT weightedPrice  \\\n",
       "0               3                  0        387.0             99.4000   \n",
       "1               3                  4        371.0             98.9013   \n",
       "2               3                 12        100.0             99.2000   \n",
       "3               3                 15        380.0             99.2000   \n",
       "4               3                 23        188.0             99.2330   \n",
       "\n",
       "   MSFT open  MSFT high  ...  MSFT Days Avg 20 High  MSFT Days Avg 50 Low  \\\n",
       "0      99.40      99.40  ...             106.233088            103.639316   \n",
       "1      98.88      98.88  ...             106.233088            103.639316   \n",
       "2      99.20      99.20  ...             106.233088            103.639316   \n",
       "3      99.20      99.20  ...             106.233088            103.639316   \n",
       "4      99.20      99.20  ...             106.233088            103.639316   \n",
       "\n",
       "   MSFT Days Avg 50 Weighted  MSFT Days Avg 50 High  MSFT Days Avg 100 Low  \\\n",
       "0                 105.459754             107.401061             105.840074   \n",
       "1                 105.459754             107.401061             105.840074   \n",
       "2                 105.459754             107.401061             105.840074   \n",
       "3                 105.459754             107.401061             105.840074   \n",
       "4                 105.459754             107.401061             105.840074   \n",
       "\n",
       "   MSFT Days Avg 100 Weighted  MSFT Days Avg 100 High  MSFT Days Avg 200 Low  \\\n",
       "0                  107.397918              109.023975             101.771254   \n",
       "1                  107.397918              109.023975             101.771254   \n",
       "2                  107.397918              109.023975             101.771254   \n",
       "3                  107.397918              109.023975             101.771254   \n",
       "4                  107.397918              109.023975             101.771254   \n",
       "\n",
       "   MSFT Days Avg 200 Weighted  MSFT Days Avg 200 High  \n",
       "0                  103.103047              104.459615  \n",
       "1                  103.103047              104.459615  \n",
       "2                  103.103047              104.459615  \n",
       "3                  103.103047              104.459615  \n",
       "4                  103.103047              104.459615  \n",
       "\n",
       "[5 rows x 33 columns]"
      ]
     },
     "execution_count": 99,
     "metadata": {},
     "output_type": "execute_result"
    }
   ],
   "source": [
    "df.head()"
   ]
  },
  {
   "cell_type": "markdown",
   "metadata": {
    "colab_type": "text",
    "id": "hoxNZ2GM7DPm"
   },
   "source": [
    "The original dataset contains 32 features. And we added more features by extracting technical analysis indicators from OCHL data."
   ]
  },
  {
   "cell_type": "code",
   "execution_count": 100,
   "metadata": {
    "colab": {},
    "colab_type": "code",
    "id": "c2Lq8HVl2Bao"
   },
   "outputs": [],
   "source": [
    "from talib import MA_Type\n",
    "\n",
    "## Technical Analysis Indicators\n",
    "ta_weighted_price = 'MSFT weightedPrice'\n",
    "ta_volume = 'MSFT volume'\n",
    "ta_time_stamp = 'MSFT timestampMs'\n",
    "ta_obv = 'MSFT OBV'\n",
    "ta_price_change_class = 'MSFT price change class'\n",
    "ta_price_change = 'MSFT price change'\n",
    "ta_log_return = 'MSFT log return'\n",
    "\n",
    "\n",
    "wighted_prices = df[ta_weighted_price]\n",
    "open = df['MSFT open']\n",
    "high = df['MSFT high']\n",
    "low = df['MSFT low']\n",
    "close = df['MSFT close']\n",
    "volume = df[ta_volume]\n",
    "\n",
    "price_SMA_50 = talib.SMA(wighted_prices.values, timeperiod=50)\n",
    "price_SMA_100 = talib.SMA(wighted_prices.values, timeperiod=100)\n",
    "price_SMA_200 = talib.SMA(wighted_prices.values, timeperiod=200)\n",
    "price_DEMA_5 = talib.DEMA(wighted_prices.values, timeperiod=5)\n",
    "price_DEMA_10 = talib.DEMA(wighted_prices.values, timeperiod=10)\n",
    "price_DEMA_20 = talib.DEMA(wighted_prices.values, timeperiod=20)\n",
    "bbands_20 = talib.BBANDS(wighted_prices.values, timeperiod=20, matype=MA_Type.T3)\n",
    "bbands_10 = talib.BBANDS(wighted_prices.values, timeperiod=10, matype=MA_Type.T3)\n",
    "rsi_14 = talib.RSI(wighted_prices.values, timeperiod=14)\n",
    "stoch_14 = talib.STOCH(high.values, low.values, wighted_prices.values, fastk_period=14)\n",
    "obv = talib.OBV(wighted_prices.values, volume)\n",
    "macd = talib.MACD(wighted_prices.values, fastperiod=12, slowperiod=26, signalperiod=9)\n",
    "\n",
    "df['MSFT SMA 50'] = price_SMA_50\n",
    "df['MSFT SMA 100'] = price_SMA_100\n",
    "df['MSFT SMA 200'] = price_SMA_200\n",
    "df['MSFT DEMA 5'] = price_DEMA_5\n",
    "df['MSFT DEMA 10'] = price_DEMA_10\n",
    "df['MSFT DEMA 20'] = price_DEMA_20\n",
    "df['MSFT BBANDS 20 UPPER'], df['MSFT BBANDS 20 MIDDLE'], df['MSFT BBANDS 20 LOWER'] = bbands_20\n",
    "df['MSFT BBANDS 10 UPPER'], df['MSFT BBANDS 10 MIDDLE'], df['MSFT BBANDS 10 LOWER'] = bbands_10\n",
    "df['MSFT RSI 14'] = rsi_14\n",
    "df['MSFT STOCH 14 lowk'], df['MSFT STOCH 14 lowd'] = stoch_14\n",
    "df[ta_obv] = obv\n",
    "df['MSFT macd'], df['MSFT macdsignal'], df['MSFT macdhist']= macd\n",
    "\n",
    "## Pattern recognition\n",
    "two_crows = talib.CDL2CROWS(open.values, high.values, low.values, close.values)\n",
    "three_black_crows = talib.CDL3BLACKCROWS(open.values, high.values, low.values, close.values)\n",
    "hammer = talib.CDLHAMMER(open.values, high.values, low.values, close.values)\n",
    "inverse_hammer = talib.CDLINVERTEDHAMMER(open.values, high.values, low.values, close.values)\n",
    "engulfing = talib.CDLENGULFING(open.values, high.values, low.values, close.values)\n",
    "piercing = talib.CDLPIERCING(open.values, high.values, low.values, close.values)\n",
    "morning_star = talib.CDLMORNINGSTAR(open.values, high.values, low.values, close.values, penetration=0)\n",
    "three_white_soldiers = talib.CDL3WHITESOLDIERS(open.values, high.values, low.values, close.values)\n",
    "hanging_man = talib.CDLHANGINGMAN(open.values, high.values, low.values, close.values)\n",
    "shooting_star = talib.CDLSHOOTINGSTAR(open.values, high.values, low.values, close.values)\n",
    "evening_star = talib.CDLEVENINGSTAR(open.values, high.values, low.values, close.values, penetration=0)\n",
    "dark_cloud_cover = talib.CDLDARKCLOUDCOVER(open.values, high.values, low.values, close.values, penetration=0)\n",
    "doji = talib.CDLDOJI(open.values, high.values, low.values, close.values)\n",
    "spinning_top = talib.CDLSPINNINGTOP(open.values, high.values, low.values, close.values)\n",
    "rising_falling_three_methods = talib.CDLRISEFALL3METHODS(open.values, high.values, low.values, close.values)\n",
    "\n",
    "three_inside_up = talib.CDL3INSIDE(open.values, high.values, low.values, close.values)\n",
    "three_outside_up = talib.CDL3OUTSIDE(open.values, high.values, low.values, close.values)\n",
    "counter_attack = talib.CDLCOUNTERATTACK(open.values, high.values, low.values, close.values)\n",
    "abondoned_baby = talib.CDLABANDONEDBABY(open.values, high.values, low.values, close.values, penetration=0)\n",
    "harami = talib.CDLHARAMI(open.values, high.values, low.values, close.values)\n",
    "harami_cross = talib.CDLHARAMICROSS(open.values, high.values, low.values, close.values)\n",
    "dragon_doji = talib.CDLDRAGONFLYDOJI(open.values, high.values, low.values, close.values)\n",
    "gravestone_doji = talib.CDLGRAVESTONEDOJI(open.values, high.values, low.values, close.values)\n",
    "long_shadow = talib.CDLTAKURI(open.values, high.values, low.values, close.values)\n",
    "upside_gap_two_crows = talib.CDLUPSIDEGAP2CROWS(open.values, high.values, low.values, close.values)\n",
    "sandwich = talib.CDLSTICKSANDWICH(open.values, high.values, low.values, close.values)\n",
    "\n",
    "df['Two Crows'] = two_crows/100\n",
    "df['Three Black Crows'] = three_black_crows/100\n",
    "df['Hammer'] = hammer/100\n",
    "df['Inverted Hammer'] = inverse_hammer/100\n",
    "df['Engulfing Pattern'] = engulfing/100\n",
    "df['Piercing Pattern'] = piercing/100\n",
    "df['Morning Star'] = morning_star/100\n",
    "df['Three Advancing White Soldiers'] = three_white_soldiers/100\n",
    "df['Hanging Man'] = hanging_man/100\n",
    "df['Shooting Star'] = shooting_star/100\n",
    "df['Evening Star'] = evening_star/100\n",
    "df['Dark Cloud Cover'] = dark_cloud_cover/100\n",
    "df['Doji'] = doji/100\n",
    "df['Spinning Top'] = spinning_top/100\n",
    "df['Rising/Falling Three Methods'] = rising_falling_three_methods/100\n",
    "df['Three Inside Up/Down'] = three_inside_up/100\n",
    "df['Three Outside Up/Down'] = three_outside_up/100\n",
    "df['Counterattack'] = counter_attack/100\n",
    "df['Abandoned Baby'] = abondoned_baby/100\n",
    "df['Harami Pattern'] = harami/100\n",
    "df['Harami Cross Pattern'] = harami_cross/100\n",
    "df['Dragonfly Doji'] = dragon_doji/100\n",
    "df['Gravestone Doji'] = gravestone_doji/100\n",
    "df['Takuri Long Shadow'] = long_shadow/100\n",
    "df['Upside Gap Two Crows'] = upside_gap_two_crows/100\n",
    "df['Stick Sandwich'] = sandwich/100"
   ]
  },
  {
   "cell_type": "code",
   "execution_count": 101,
   "metadata": {},
   "outputs": [],
   "source": [
    "df[ta_price_change] = df[ta_weighted_price].pct_change() * 100"
   ]
  },
  {
   "cell_type": "code",
   "execution_count": 102,
   "metadata": {},
   "outputs": [
    {
     "name": "stdout",
     "output_type": "stream",
     "text": [
      "4.426383521167732\n",
      "-4.2383543336477985\n",
      "0.0003678871253113128\n",
      "0.07786602199912077\n"
     ]
    }
   ],
   "source": [
    "print(df[ta_price_change].max())\n",
    "print(df[ta_price_change].min())\n",
    "print(df[ta_price_change].mean())\n",
    "print(df[ta_price_change].std())"
   ]
  },
  {
   "cell_type": "code",
   "execution_count": 135,
   "metadata": {},
   "outputs": [],
   "source": [
    "# We assume price changes will always be betweeb threshold% and -threshold% per minute. Any value beyond that will be capped to its nearest max/min (threshold%/-threshold%)\n",
    "# Rounding up and normalizing the percentages int the range [1, number_of_classes] so we end up with a scale of {number_of_classes} different class of percentages.\n",
    "threshold = 1\n",
    "\n",
    "# paramters to be tuned to achieve the most unfirom distributions of classes\n",
    "exp = 1.4\n",
    "delta = 0.001\n",
    "interval_multiplier = 0.0015\n",
    "\n",
    "positive_percent_intervals = delta + np.power(exp, np.arange(20)) * interval_multiplier\n",
    "negative_percent_intervals = -1 * positive_percent_intervals\n",
    "percent_intervals = np.concatenate((negative_percent_intervals, [0], positive_percent_intervals), axis=0)\n",
    "percent_intervals = percent_intervals[(-threshold <= percent_intervals) & (percent_intervals <= threshold)]\n",
    "percent_intervals = np.sort(percent_intervals)\n",
    "number_of_classes = percent_intervals.size\n",
    "\n",
    "def category_from_percentage(percent):\n",
    "    previous_diff = sys.float_info.max\n",
    "    class_number = percent_intervals.size - 1\n",
    "    for index, value in enumerate(percent_intervals):\n",
    "        diff = abs(value - percent)\n",
    "        if diff >= previous_diff:\n",
    "            class_number = index - 1\n",
    "            break\n",
    "        else:\n",
    "            previous_diff = diff\n",
    "            \n",
    "    return class_number\n",
    "\n",
    "\n",
    "def percentage_from_category(cl_num):\n",
    "    class_number = tf.math.round(cl_num)\n",
    "    if class_number >= number_of_classes:\n",
    "        print(\"cLass number out of range (%s)! fix this bug!!\" % cl_num)\n",
    "    return percent_intervals[class_number]\n"
   ]
  },
  {
   "cell_type": "code",
   "execution_count": 104,
   "metadata": {},
   "outputs": [],
   "source": [
    "df[ta_price_change_class] = df[ta_price_change].apply(func = lambda x : category_from_percentage(x))"
   ]
  },
  {
   "cell_type": "code",
   "execution_count": 105,
   "metadata": {},
   "outputs": [
    {
     "name": "stdout",
     "output_type": "stream",
     "text": [
      "numer of classes = 41\n",
      "percent intervals = [-0.89744559 -0.64131828 -0.4583702  -0.327693   -0.23435214 -0.1676801\n",
      " -0.12005722 -0.08604087 -0.06174348 -0.0443882  -0.03199157 -0.02313684\n",
      " -0.01681203 -0.0122943  -0.00906736 -0.0067624  -0.005116   -0.00394\n",
      " -0.0031     -0.0025      0.          0.0025      0.0031      0.00394\n",
      "  0.005116    0.0067624   0.00906736  0.0122943   0.01681203  0.02313684\n",
      "  0.03199157  0.0443882   0.06174348  0.08604087  0.12005722  0.1676801\n",
      "  0.23435214  0.327693    0.4583702   0.64131828  0.89744559]\n",
      "Mode of classes = 0    30\n",
      "dtype: int64\n",
      "count of classes = 30    8086\n",
      "10    8016\n",
      "29    7896\n",
      "11    7561\n",
      "20    7283\n",
      "31    7141\n",
      "9     7097\n",
      "28    6978\n",
      "12    6605\n",
      "27    5771\n",
      "8     5591\n",
      "32    5562\n",
      "13    5482\n",
      "26    4508\n",
      "14    4310\n",
      "7     3756\n",
      "33    3530\n",
      "25    3518\n",
      "15    3479\n",
      "21    3081\n",
      "19    2941\n",
      "24    2526\n",
      "16    2436\n",
      "34    2012\n",
      "6     1969\n",
      "17    1844\n",
      "23    1779\n",
      "18    1333\n",
      "22    1304\n",
      "35     944\n",
      "5      933\n",
      "36     430\n",
      "4      421\n",
      "37     226\n",
      "3      176\n",
      "38     115\n",
      "2       95\n",
      "40      79\n",
      "0       69\n",
      "39      63\n",
      "1       59\n",
      "Name: MSFT price change class, dtype: int64\n"
     ]
    }
   ],
   "source": [
    "print(\"numer of classes = %s\" % number_of_classes)\n",
    "print(\"percent intervals = %s\" % percent_intervals)\n",
    "print(\"Mode of classes = %s\" % df[ta_price_change_class].mode())\n",
    "print(\"count of classes = %s\" % df[ta_price_change_class].value_counts())"
   ]
  },
  {
   "cell_type": "code",
   "execution_count": 106,
   "metadata": {},
   "outputs": [],
   "source": [
    "df['MSFT open'] = open/wighted_prices\n",
    "df['MSFT high'] = high/wighted_prices\n",
    "df['MSFT low'] = low/wighted_prices\n",
    "df['MSFT close'] = close/wighted_prices\n",
    "\n",
    "df['MSFT monthOfYear'] = df['MSFT monthOfYear']/12\n",
    "df['MSFT dayOfMonth'] = df['MSFT dayOfMonth']/30\n",
    "df['MSFT dayOfWeek'] = df['MSFT dayOfWeek']/7\n",
    "df['MSFT hourOfDay'] = df['MSFT hourOfDay']/24\n",
    "df['MSFT minuteOfHour'] = df['MSFT minuteOfHour']/60\n",
    "\n",
    "df['MSFT SMA 50'] = price_SMA_50/wighted_prices\n",
    "df['MSFT SMA 100'] = price_SMA_100/wighted_prices\n",
    "df['MSFT SMA 200'] = price_SMA_200/wighted_prices\n",
    "df['MSFT DEMA 5'] = price_DEMA_5/wighted_prices\n",
    "df['MSFT DEMA 10'] = price_DEMA_10/wighted_prices\n",
    "df['MSFT DEMA 20'] = price_DEMA_20/wighted_prices\n",
    "\n",
    "df['MSFT Days Avg 3 Low'] = df['MSFT Days Avg 3 Low']/wighted_prices\n",
    "df['MSFT Days Avg 3 Weighted'] = df['MSFT Days Avg 3 Weighted']/wighted_prices\n",
    "df['MSFT Days Avg 3 High'] = df['MSFT Days Avg 3 High']/wighted_prices\n",
    "df['MSFT Days Avg 5 Low'] = df['MSFT Days Avg 5 Low']/wighted_prices\n",
    "df['MSFT Days Avg 5 Weighted'] = df['MSFT Days Avg 5 Weighted']/wighted_prices\n",
    "df['MSFT Days Avg 5 High'] = df['MSFT Days Avg 5 High']/wighted_prices\n",
    "df['MSFT Days Avg 10 Low'] = df['MSFT Days Avg 10 Low']/wighted_prices\n",
    "df['MSFT Days Avg 10 Weighted'] = df['MSFT Days Avg 10 Weighted']/wighted_prices\n",
    "df['MSFT Days Avg 10 High'] = df['MSFT Days Avg 10 High']/wighted_prices\n",
    "df['MSFT Days Avg 20 Low'] = df['MSFT Days Avg 20 Low']/wighted_prices\n",
    "df['MSFT Days Avg 20 Weighted'] = df['MSFT Days Avg 20 Weighted']/wighted_prices\n",
    "df['MSFT Days Avg 20 High'] = df['MSFT Days Avg 20 High']/wighted_prices\n",
    "df['MSFT Days Avg 50 Low'] = df['MSFT Days Avg 50 Low']/wighted_prices\n",
    "df['MSFT Days Avg 50 Weighted'] = df['MSFT Days Avg 50 Weighted']/wighted_prices\n",
    "df['MSFT Days Avg 50 High'] = df['MSFT Days Avg 50 High']/wighted_prices\n",
    "df['MSFT Days Avg 100 Low'] = df['MSFT Days Avg 100 Low']/wighted_prices\n",
    "df['MSFT Days Avg 100 Weighted'] = df['MSFT Days Avg 100 Weighted']/wighted_prices\n",
    "df['MSFT Days Avg 100 High'] = df['MSFT Days Avg 100 High']/wighted_prices\n",
    "df['MSFT Days Avg 200 Low'] = df['MSFT Days Avg 200 Low']/wighted_prices\n",
    "df['MSFT Days Avg 200 Weighted'] = df['MSFT Days Avg 200 Weighted']/wighted_prices\n",
    "df['MSFT Days Avg 200 High'] = df['MSFT Days Avg 200 High']/wighted_prices\n",
    "\n",
    "df['MSFT BBANDS 20 UPPER'] = df['MSFT BBANDS 20 UPPER']/wighted_prices\n",
    "df['MSFT BBANDS 20 MIDDLE'] = df['MSFT BBANDS 20 MIDDLE']/wighted_prices\n",
    "df['MSFT BBANDS 20 LOWER'] = df['MSFT BBANDS 20 LOWER']/wighted_prices\n",
    "df['MSFT BBANDS 10 UPPER'] = df['MSFT BBANDS 10 UPPER']/wighted_prices\n",
    "df['MSFT BBANDS 10 MIDDLE'] = df['MSFT BBANDS 10 MIDDLE']/wighted_prices\n",
    "df['MSFT BBANDS 10 LOWER'] = df['MSFT BBANDS 10 LOWER']/wighted_prices"
   ]
  },
  {
   "cell_type": "markdown",
   "metadata": {
    "colab_type": "text",
    "id": "aZL35jNy_Upk"
   },
   "source": [
    "The technical indicators functions needs some initial datapoints before they could calculate output...before then they will NaN. Lets see how many of them we have:"
   ]
  },
  {
   "cell_type": "code",
   "execution_count": 107,
   "metadata": {
    "colab": {
     "base_uri": "https://localhost:8080/",
     "height": 187
    },
    "colab_type": "code",
    "id": "kEt_ijgz7Mvv",
    "outputId": "adc46d5f-b251-4a00-df8f-44b53caa877d"
   },
   "outputs": [
    {
     "name": "stdout",
     "output_type": "stream",
     "text": [
      "1\n",
      "0\n",
      "49\n",
      "99\n",
      "199\n"
     ]
    }
   ],
   "source": [
    "nan_list = [df[ta_price_change], df[ta_price_change_class], df['MSFT SMA 50'], df['MSFT SMA 100'], df['MSFT SMA 200']]\n",
    "for i in nan_list:\n",
    "  print(np.count_nonzero(np.isnan(i)))"
   ]
  },
  {
   "cell_type": "code",
   "execution_count": 108,
   "metadata": {},
   "outputs": [],
   "source": [
    "# remove first 199 NaN rows\n",
    "df = df.drop(df.index[0:199])"
   ]
  },
  {
   "cell_type": "code",
   "execution_count": 109,
   "metadata": {},
   "outputs": [],
   "source": [
    "#clean up data to keep only trades between 9:30am and 3pm CST. and remove high frequency trades or prices spikes anomalies during low-volume trading before/after market hours:\n",
    "#df = df[(((df['MSFT hourOfDay'] == 9.0) & (df['MSFT minuteOfHour'] > 30.0)) | (df['MSFT hourOfDay'] >= 10.0)) & (df['MSFT hourOfDay'] < 15.0)]"
   ]
  },
  {
   "cell_type": "code",
   "execution_count": 110,
   "metadata": {},
   "outputs": [
    {
     "data": {
      "text/html": [
       "<div>\n",
       "<style scoped>\n",
       "    .dataframe tbody tr th:only-of-type {\n",
       "        vertical-align: middle;\n",
       "    }\n",
       "\n",
       "    .dataframe tbody tr th {\n",
       "        vertical-align: top;\n",
       "    }\n",
       "\n",
       "    .dataframe thead th {\n",
       "        text-align: right;\n",
       "    }\n",
       "</style>\n",
       "<table border=\"1\" class=\"dataframe\">\n",
       "  <thead>\n",
       "    <tr style=\"text-align: right;\">\n",
       "      <th></th>\n",
       "      <th>MSFT timestampMs</th>\n",
       "      <th>MSFT monthOfYear</th>\n",
       "      <th>MSFT dayOfMonth</th>\n",
       "      <th>MSFT dayOfWeek</th>\n",
       "      <th>MSFT hourOfDay</th>\n",
       "      <th>MSFT minuteOfHour</th>\n",
       "      <th>MSFT volume</th>\n",
       "      <th>MSFT weightedPrice</th>\n",
       "      <th>MSFT open</th>\n",
       "      <th>MSFT high</th>\n",
       "      <th>...</th>\n",
       "      <th>Abandoned Baby</th>\n",
       "      <th>Harami Pattern</th>\n",
       "      <th>Harami Cross Pattern</th>\n",
       "      <th>Dragonfly Doji</th>\n",
       "      <th>Gravestone Doji</th>\n",
       "      <th>Takuri Long Shadow</th>\n",
       "      <th>Upside Gap Two Crows</th>\n",
       "      <th>Stick Sandwich</th>\n",
       "      <th>MSFT price change</th>\n",
       "      <th>MSFT price change class</th>\n",
       "    </tr>\n",
       "  </thead>\n",
       "  <tbody>\n",
       "    <tr>\n",
       "      <th>137000</th>\n",
       "      <td>1577839920000</td>\n",
       "      <td>1.0</td>\n",
       "      <td>1.033333</td>\n",
       "      <td>0.428571</td>\n",
       "      <td>0.75</td>\n",
       "      <td>0.866667</td>\n",
       "      <td>177.0</td>\n",
       "      <td>157.7700</td>\n",
       "      <td>1.000000</td>\n",
       "      <td>1.000000</td>\n",
       "      <td>...</td>\n",
       "      <td>0.0</td>\n",
       "      <td>0.0</td>\n",
       "      <td>0.0</td>\n",
       "      <td>0.0</td>\n",
       "      <td>0.0</td>\n",
       "      <td>0.0</td>\n",
       "      <td>0.0</td>\n",
       "      <td>0.0</td>\n",
       "      <td>-0.019011</td>\n",
       "      <td>12</td>\n",
       "    </tr>\n",
       "    <tr>\n",
       "      <th>137001</th>\n",
       "      <td>1577839980000</td>\n",
       "      <td>1.0</td>\n",
       "      <td>1.033333</td>\n",
       "      <td>0.428571</td>\n",
       "      <td>0.75</td>\n",
       "      <td>0.883333</td>\n",
       "      <td>800.0</td>\n",
       "      <td>157.8000</td>\n",
       "      <td>1.000000</td>\n",
       "      <td>1.000000</td>\n",
       "      <td>...</td>\n",
       "      <td>0.0</td>\n",
       "      <td>0.0</td>\n",
       "      <td>0.0</td>\n",
       "      <td>0.0</td>\n",
       "      <td>0.0</td>\n",
       "      <td>0.0</td>\n",
       "      <td>0.0</td>\n",
       "      <td>0.0</td>\n",
       "      <td>0.019015</td>\n",
       "      <td>28</td>\n",
       "    </tr>\n",
       "    <tr>\n",
       "      <th>137002</th>\n",
       "      <td>1577840220000</td>\n",
       "      <td>1.0</td>\n",
       "      <td>1.033333</td>\n",
       "      <td>0.428571</td>\n",
       "      <td>0.75</td>\n",
       "      <td>0.950000</td>\n",
       "      <td>166.0</td>\n",
       "      <td>157.7810</td>\n",
       "      <td>0.999994</td>\n",
       "      <td>0.999994</td>\n",
       "      <td>...</td>\n",
       "      <td>0.0</td>\n",
       "      <td>0.0</td>\n",
       "      <td>0.0</td>\n",
       "      <td>0.0</td>\n",
       "      <td>0.0</td>\n",
       "      <td>0.0</td>\n",
       "      <td>0.0</td>\n",
       "      <td>0.0</td>\n",
       "      <td>-0.012041</td>\n",
       "      <td>13</td>\n",
       "    </tr>\n",
       "    <tr>\n",
       "      <th>137003</th>\n",
       "      <td>1577840280000</td>\n",
       "      <td>1.0</td>\n",
       "      <td>1.033333</td>\n",
       "      <td>0.428571</td>\n",
       "      <td>0.75</td>\n",
       "      <td>0.966667</td>\n",
       "      <td>1183.0</td>\n",
       "      <td>157.8307</td>\n",
       "      <td>0.999679</td>\n",
       "      <td>1.000059</td>\n",
       "      <td>...</td>\n",
       "      <td>0.0</td>\n",
       "      <td>0.0</td>\n",
       "      <td>0.0</td>\n",
       "      <td>0.0</td>\n",
       "      <td>0.0</td>\n",
       "      <td>0.0</td>\n",
       "      <td>0.0</td>\n",
       "      <td>0.0</td>\n",
       "      <td>0.031499</td>\n",
       "      <td>30</td>\n",
       "    </tr>\n",
       "    <tr>\n",
       "      <th>137004</th>\n",
       "      <td>1577840340000</td>\n",
       "      <td>1.0</td>\n",
       "      <td>1.033333</td>\n",
       "      <td>0.428571</td>\n",
       "      <td>0.75</td>\n",
       "      <td>0.983333</td>\n",
       "      <td>200.0</td>\n",
       "      <td>157.8500</td>\n",
       "      <td>1.000000</td>\n",
       "      <td>1.000000</td>\n",
       "      <td>...</td>\n",
       "      <td>0.0</td>\n",
       "      <td>0.0</td>\n",
       "      <td>0.0</td>\n",
       "      <td>0.0</td>\n",
       "      <td>0.0</td>\n",
       "      <td>0.0</td>\n",
       "      <td>0.0</td>\n",
       "      <td>0.0</td>\n",
       "      <td>0.012228</td>\n",
       "      <td>27</td>\n",
       "    </tr>\n",
       "  </tbody>\n",
       "</table>\n",
       "<p>5 rows × 80 columns</p>\n",
       "</div>"
      ],
      "text/plain": [
       "        MSFT timestampMs  MSFT monthOfYear  MSFT dayOfMonth  MSFT dayOfWeek  \\\n",
       "137000     1577839920000               1.0         1.033333        0.428571   \n",
       "137001     1577839980000               1.0         1.033333        0.428571   \n",
       "137002     1577840220000               1.0         1.033333        0.428571   \n",
       "137003     1577840280000               1.0         1.033333        0.428571   \n",
       "137004     1577840340000               1.0         1.033333        0.428571   \n",
       "\n",
       "        MSFT hourOfDay  MSFT minuteOfHour  MSFT volume  MSFT weightedPrice  \\\n",
       "137000            0.75           0.866667        177.0            157.7700   \n",
       "137001            0.75           0.883333        800.0            157.8000   \n",
       "137002            0.75           0.950000        166.0            157.7810   \n",
       "137003            0.75           0.966667       1183.0            157.8307   \n",
       "137004            0.75           0.983333        200.0            157.8500   \n",
       "\n",
       "        MSFT open  MSFT high  ...  Abandoned Baby  Harami Pattern  \\\n",
       "137000   1.000000   1.000000  ...             0.0             0.0   \n",
       "137001   1.000000   1.000000  ...             0.0             0.0   \n",
       "137002   0.999994   0.999994  ...             0.0             0.0   \n",
       "137003   0.999679   1.000059  ...             0.0             0.0   \n",
       "137004   1.000000   1.000000  ...             0.0             0.0   \n",
       "\n",
       "        Harami Cross Pattern  Dragonfly Doji  Gravestone Doji  \\\n",
       "137000                   0.0             0.0              0.0   \n",
       "137001                   0.0             0.0              0.0   \n",
       "137002                   0.0             0.0              0.0   \n",
       "137003                   0.0             0.0              0.0   \n",
       "137004                   0.0             0.0              0.0   \n",
       "\n",
       "        Takuri Long Shadow  Upside Gap Two Crows  Stick Sandwich  \\\n",
       "137000                 0.0                   0.0             0.0   \n",
       "137001                 0.0                   0.0             0.0   \n",
       "137002                 0.0                   0.0             0.0   \n",
       "137003                 0.0                   0.0             0.0   \n",
       "137004                 0.0                   0.0             0.0   \n",
       "\n",
       "        MSFT price change  MSFT price change class  \n",
       "137000          -0.019011                       12  \n",
       "137001           0.019015                       28  \n",
       "137002          -0.012041                       13  \n",
       "137003           0.031499                       30  \n",
       "137004           0.012228                       27  \n",
       "\n",
       "[5 rows x 80 columns]"
      ]
     },
     "execution_count": 110,
     "metadata": {},
     "output_type": "execute_result"
    }
   ],
   "source": [
    "df.tail()"
   ]
  },
  {
   "cell_type": "code",
   "execution_count": 111,
   "metadata": {},
   "outputs": [
    {
     "name": "stdout",
     "output_type": "stream",
     "text": [
      "137000    157.7700\n",
      "137001    157.8000\n",
      "137002    157.7810\n",
      "137003    157.8307\n",
      "137004    157.8500\n",
      "Name: MSFT weightedPrice, dtype: float64\n",
      "137000   -0.019011\n",
      "137001    0.019015\n",
      "137002   -0.012041\n",
      "137003    0.031499\n",
      "137004    0.012228\n",
      "Name: MSFT price change, dtype: float64\n",
      "137000    12\n",
      "137001    28\n",
      "137002    13\n",
      "137003    30\n",
      "137004    27\n",
      "Name: MSFT price change class, dtype: int64\n"
     ]
    }
   ],
   "source": [
    "print(df[ta_weighted_price].tail())\n",
    "print(df[ta_price_change].tail())\n",
    "print(df[ta_price_change_class].tail())"
   ]
  },
  {
   "cell_type": "code",
   "execution_count": 112,
   "metadata": {},
   "outputs": [],
   "source": [
    "#indicators_price_volume = [ta_weighted_price, ta_volume]\n",
    "indicators_time = ['MSFT monthOfYear','MSFT dayOfMonth', 'MSFT dayOfWeek','MSFT hourOfDay','MSFT minuteOfHour']\n",
    "\n",
    "indicators_ochl = ['MSFT open','MSFT high','MSFT low','MSFT close'] \n",
    "\n",
    "indicators_long_average = ['MSFT Days Avg 3 Low','MSFT Days Avg 3 Weighted',\n",
    "                           'MSFT Days Avg 3 High','MSFT Days Avg 5 Low',\n",
    "                           'MSFT Days Avg 5 Weighted','MSFT Days Avg 5 High',\n",
    "                           'MSFT Days Avg 10 Low','MSFT Days Avg 10 Weighted',\n",
    "                           'MSFT Days Avg 10 High','MSFT Days Avg 20 Low',\n",
    "                           'MSFT Days Avg 20 Weighted','MSFT Days Avg 20 High',\n",
    "                           'MSFT Days Avg 50 Low','MSFT Days Avg 50 Weighted',\n",
    "                           'MSFT Days Avg 50 High','MSFT Days Avg 100 Low',\n",
    "                           'MSFT Days Avg 100 Weighted','MSFT Days Avg 100 High',\n",
    "                           'MSFT Days Avg 200 Low', 'MSFT Days Avg 200 Weighted',\n",
    "                           'MSFT Days Avg 200 High']\n",
    "\n",
    "indicators_short_average = ['MSFT SMA 50','MSFT SMA 100','MSFT SMA 200','MSFT DEMA 5','MSFT DEMA 10','MSFT DEMA 20']\n",
    "\n",
    "indicators_bbands = ['MSFT BBANDS 20 UPPER','MSFT BBANDS 20 MIDDLE',\n",
    "                     'MSFT BBANDS 20 LOWER','MSFT BBANDS 10 UPPER',\n",
    "                     'MSFT BBANDS 10 MIDDLE','MSFT BBANDS 10 LOWER']\n",
    "\n",
    "indicators_momentum_100 = ['MSFT RSI 14','MSFT STOCH 14 lowk','MSFT STOCH 14 lowd']\n",
    "\n",
    "indicators_momentum_1 = ['MSFT macd','MSFT macdsignal','MSFT macdhist']\n",
    "\n",
    "indicators_volume =  [ta_obv]\n",
    "\n",
    "candlestick_patterns_strong = ['Two Crows', 'Three Black Crows', \n",
    "                        'Hammer', 'Inverted Hammer', \n",
    "                        'Engulfing Pattern', 'Piercing Pattern', \n",
    "                        'Morning Star', 'Three Advancing White Soldiers', \n",
    "                        'Hanging Man', 'Shooting Star', \n",
    "                        'Evening Star', 'Dark Cloud Cover', \n",
    "                        'Doji', 'Spinning Top', \n",
    "                        'Rising/Falling Three Methods']\n",
    "\n",
    "candlestick_patterns_weak = ['Three Inside Up/Down', 'Three Outside Up/Down', \n",
    "                             'Counterattack', 'Abandoned Baby', \n",
    "                             'Harami Pattern', 'Harami Cross Pattern', \n",
    "                             'Dragonfly Doji', 'Gravestone Doji', \n",
    "                             'Takuri Long Shadow', 'Upside Gap Two Crows', 'Stick Sandwich']\n"
   ]
  },
  {
   "cell_type": "markdown",
   "metadata": {
    "colab_type": "text",
    "id": "qoFJZmXBaxCc"
   },
   "source": [
    "In this project, we will train our model on 85% of the dataset, and the remaining will be the validation dataset. This amounts to ~460 days worth of training data."
   ]
  },
  {
   "cell_type": "code",
   "execution_count": 113,
   "metadata": {
    "colab": {
     "base_uri": "https://localhost:8080/",
     "height": 34
    },
    "colab_type": "code",
    "id": "ia-MPAHxbInX",
    "outputId": "fdf843d4-0692-4b84-ae3a-a8428f05338d"
   },
   "outputs": [
    {
     "name": "stdout",
     "output_type": "stream",
     "text": [
      "Training set size = 116285\n"
     ]
    }
   ],
   "source": [
    "TRAIN_SPLIT = np.long(len(df.index) * 0.85)\n",
    "print(\"Training set size = %s\" % (TRAIN_SPLIT))"
   ]
  },
  {
   "cell_type": "markdown",
   "metadata": {
    "colab_type": "text",
    "id": "cqStgZ-O1b3_"
   },
   "source": [
    "We will standardize some features in the dataset using the mean and standard deviation of the training data. Other features do not need to be normalized."
   ]
  },
  {
   "cell_type": "code",
   "execution_count": 114,
   "metadata": {
    "colab": {},
    "colab_type": "code",
    "id": "W7VuNIwfHRHx"
   },
   "outputs": [],
   "source": [
    "prices_dataset = df[ta_weighted_price].values\n",
    "prices_change_dataset = df[ta_price_change].values\n",
    "volume_dataset = df[ta_volume].values\n",
    "time_dataset = df[indicators_time].values/60\n",
    "ochl_dataset = df[indicators_ochl].values\n",
    "long_average_dataset = df[indicators_long_average].values\n",
    "short_average_dataset = df[indicators_short_average].values\n",
    "bbands_dataset = df[indicators_bbands].values\n",
    "momentum_100_dataset = df[indicators_momentum_100].values/100\n",
    "momentum_1_dataset = df[indicators_momentum_1].values\n",
    "patterns_dataset_strong = df[candlestick_patterns_strong].values\n",
    "patterns_dataset_weak = df[candlestick_patterns_weak].values\n",
    "\n",
    "volume_mean = volume_dataset[:TRAIN_SPLIT].mean(axis=0)\n",
    "volume_std = volume_dataset[:TRAIN_SPLIT].std(axis=0)\n",
    "\n",
    "volume_dataset = volume_dataset/volume_mean\n",
    "obv_dataset = df[indicators_volume].values/volume_mean"
   ]
  },
  {
   "cell_type": "code",
   "execution_count": 115,
   "metadata": {
    "colab": {},
    "colab_type": "code",
    "id": "eJUeWDqploCt"
   },
   "outputs": [],
   "source": [
    "data_set = np.column_stack((\n",
    "                           prices_change_dataset, \n",
    "                           volume_dataset, \n",
    "                           time_dataset, \n",
    "                           ochl_dataset, \n",
    "                           long_average_dataset, \n",
    "                          #short_average_dataset, \n",
    "                           bbands_dataset, \n",
    "                           momentum_100_dataset, \n",
    "                           momentum_1_dataset, \n",
    "                           obv_dataset,\n",
    "                          #patterns_dataset_weak,\n",
    "                          patterns_dataset_strong\n",
    "                           ))\n",
    "labels_set = df[ta_price_change_class].values.astype(int)"
   ]
  },
  {
   "cell_type": "code",
   "execution_count": 116,
   "metadata": {
    "colab": {
     "base_uri": "https://localhost:8080/",
     "height": 459
    },
    "colab_type": "code",
    "id": "U6PHdM0KWNbE",
    "outputId": "ad22bc3c-acb5-4f21-88a5-02cf6d1595fd"
   },
   "outputs": [
    {
     "name": "stdout",
     "output_type": "stream",
     "text": [
      "[157.85]\n",
      "[[ 1.22282927e-02  4.94734046e-03  1.66666667e-02  1.72222222e-02\n",
      "   7.14285714e-03  1.25000000e-02  1.63888889e-02  1.00000000e+00\n",
      "   1.00000000e+00  1.00000000e+00  1.00000000e+00  9.95560425e-01\n",
      "   1.00070009e+00  1.00583535e+00  9.95836004e-01  1.00077562e+00\n",
      "   1.00499797e+00  9.87941830e-01  9.93102211e-01  9.98135436e-01\n",
      "   9.72145338e-01  9.77915446e-01  9.82458819e-01  9.37505806e-01\n",
      "   9.43242758e-01  9.48337232e-01  8.99339910e-01  9.05934086e-01\n",
      "   9.12389497e-01  8.53648967e-01  8.60553772e-01  8.67172471e-01\n",
      "   1.00060689e+00  9.99923756e-01  9.99240627e-01  1.00010123e+00\n",
      "   9.99561276e-01  9.99021319e-01  5.51271080e-01  6.34561404e-01\n",
      "   5.40584795e-01 -3.95357439e-03 -7.19169146e-03  3.23811707e-03\n",
      "   3.27178368e+03  0.00000000e+00  0.00000000e+00  0.00000000e+00\n",
      "   0.00000000e+00  0.00000000e+00  0.00000000e+00  0.00000000e+00\n",
      "   0.00000000e+00  0.00000000e+00  0.00000000e+00  0.00000000e+00\n",
      "   0.00000000e+00  1.00000000e+00  0.00000000e+00  0.00000000e+00]]\n",
      "[27]\n"
     ]
    }
   ],
   "source": [
    "print(prices_dataset[-1:])\n",
    "print(data_set[-1:])\n",
    "print(labels_set[-1:])"
   ]
  },
  {
   "cell_type": "markdown",
   "metadata": {
    "colab_type": "text",
    "id": "qfbpcV0MWQzl"
   },
   "source": [
    "As you can see above, an aggregate is recorded every 1 mintue. This means that, for a single hour, you will have 60 datapoint.\n",
    "\n",
    "Given a specific time, let's say we want to predict the stock price 5 minutes in the future. In order to make this prediction, you choose to use 60 minutes of past stock datapoints. Thus, you would create a window containing the last 60 datapoints to train the model.\n",
    "\n",
    "The function below returns the above described windows of time for the model to train on. The parameter `history_size` is the size of the past window of information. It returns label/price change for next price."
   ]
  },
  {
   "cell_type": "code",
   "execution_count": 117,
   "metadata": {
    "colab": {},
    "colab_type": "code",
    "id": "7AoxQuTrWIbi"
   },
   "outputs": [],
   "source": [
    "def univariate_data(dataset, labels_set, start_index, end_index, history_size):\n",
    "  data = []\n",
    "  labels = []\n",
    "\n",
    "  start_index = start_index + history_size\n",
    "  if end_index is None:\n",
    "    end_index = len(dataset)\n",
    "\n",
    "  for i in range(start_index, end_index):\n",
    "    indices = range(i-history_size, i)\n",
    "    data.append(np.reshape(dataset[indices], (history_size, 1)))\n",
    "    labels.append(labels_set[i])\n",
    "  return np.array(data), np.array(labels)"
   ]
  },
  {
   "cell_type": "markdown",
   "metadata": {
    "colab_type": "text",
    "id": "gW4gXcDyA2MO"
   },
   "source": [
    "Function to plot the training/validation loss history during training"
   ]
  },
  {
   "cell_type": "code",
   "execution_count": 118,
   "metadata": {
    "colab": {},
    "colab_type": "code",
    "id": "-ZAdeAnP5c72"
   },
   "outputs": [],
   "source": [
    "def plot_train_history(history, title):\n",
    "  loss = history.history['loss']\n",
    "  val_loss = history.history['val_loss']\n",
    "\n",
    "  epochs = range(len(loss))\n",
    "\n",
    "  plt.figure(figsize=(12,6))\n",
    "\n",
    "  plt.plot(epochs, loss, 'b', label='Training loss')\n",
    "  plt.plot(epochs, val_loss, 'r', label='Validation loss')\n",
    "  plt.title(title)\n",
    "  plt.legend()\n",
    "\n",
    "  plt.show()"
   ]
  },
  {
   "cell_type": "code",
   "execution_count": 151,
   "metadata": {},
   "outputs": [],
   "source": [
    "# Loads saved weights\n",
    "def load_saved_model_best_weights(checkpoint_dir, model):\n",
    "    model_latest_checkpoint = tf.train.latest_checkpoint(checkpoint_dir)\n",
    "    if model_latest_checkpoint:\n",
    "        model.load_weights(model_latest_checkpoint)\n",
    "        print(\"----- Model weights reloaded! -----\")"
   ]
  },
  {
   "cell_type": "markdown",
   "metadata": {
    "colab_type": "text",
    "id": "EowWDtaNnH1y"
   },
   "source": [
    "Setting seed to ensure reproducibility."
   ]
  },
  {
   "cell_type": "code",
   "execution_count": 119,
   "metadata": {
    "colab": {},
    "colab_type": "code",
    "id": "-x-GgENynHdx"
   },
   "outputs": [],
   "source": [
    "tf.random.set_seed(13)"
   ]
  },
  {
   "cell_type": "markdown",
   "metadata": {
    "colab_type": "text",
    "id": "8YEwr-NoWUpV"
   },
   "source": [
    "## Part 1: Predict a univariate time series\n",
    "First, we will train a model using only a single feature (stock price weighted by volume), and use it to make predictions for that value in the future.\n",
    "\n",
    "Let's first extract only the stock weighted price from the dataset."
   ]
  },
  {
   "cell_type": "code",
   "execution_count": 120,
   "metadata": {
    "colab": {
     "base_uri": "https://localhost:8080/",
     "height": 136
    },
    "colab_type": "code",
    "id": "nbdcnm1_WIY9",
    "outputId": "9bf25ef9-2ce7-431f-aa66-ba82b32ad726"
   },
   "outputs": [
    {
     "data": {
      "text/plain": [
       "MSFT timestampMs\n",
       "1577839920000    157.7700\n",
       "1577839980000    157.8000\n",
       "1577840220000    157.7810\n",
       "1577840280000    157.8307\n",
       "1577840340000    157.8500\n",
       "Name: MSFT weightedPrice, dtype: float64"
      ]
     },
     "execution_count": 120,
     "metadata": {},
     "output_type": "execute_result"
    }
   ],
   "source": [
    "uni_data = df[ta_weighted_price]\n",
    "uni_data.index = df[ta_time_stamp]\n",
    "uni_data.tail()"
   ]
  },
  {
   "cell_type": "code",
   "execution_count": 121,
   "metadata": {},
   "outputs": [
    {
     "name": "stdout",
     "output_type": "stream",
     "text": [
      "[-0.00640448  0.03002294  0.26532311 ... -0.01204056  0.03149936\n",
      "  0.01222829]\n",
      "[15 30 36 ... 13 30 27]\n"
     ]
    }
   ],
   "source": [
    "print(data_set[:, 0])\n",
    "print(labels_set[:])"
   ]
  },
  {
   "cell_type": "markdown",
   "metadata": {
    "colab_type": "text",
    "id": "aQB-46MyWZMm"
   },
   "source": [
    "Let's observe how this data looks across time (Jan 2019 till May 2020)."
   ]
  },
  {
   "cell_type": "code",
   "execution_count": 122,
   "metadata": {
    "colab": {
     "base_uri": "https://localhost:8080/",
     "height": 403
    },
    "colab_type": "code",
    "id": "ftOExwAqWXSU",
    "outputId": "2c4e8704-557c-49b5-a975-276aff6628c8"
   },
   "outputs": [
    {
     "data": {
      "text/plain": [
       "array([<matplotlib.axes._subplots.AxesSubplot object at 0x7fdcc4ba11d0>],\n",
       "      dtype=object)"
      ]
     },
     "execution_count": 122,
     "metadata": {},
     "output_type": "execute_result"
    },
    {
     "data": {
      "image/png": "[encoded data removed]",
      "text/plain": [
       "<Figure size 864x432 with 1 Axes>"
      ]
     },
     "metadata": {
      "needs_background": "light"
     },
     "output_type": "display_data"
    }
   ],
   "source": [
    "df[ta_weighted_price][:200].plot(subplots=True)"
   ]
  },
  {
   "cell_type": "code",
   "execution_count": 137,
   "metadata": {},
   "outputs": [
    {
     "data": {
      "text/plain": [
       "array([<matplotlib.axes._subplots.AxesSubplot object at 0x7fdcc7537e50>],\n",
       "      dtype=object)"
      ]
     },
     "execution_count": 137,
     "metadata": {},
     "output_type": "execute_result"
    },
    {
     "data": {
      "image/png": "[encoded data removed]",
      "text/plain": [
       "<Figure size 864x432 with 1 Axes>"
      ]
     },
     "metadata": {
      "needs_background": "light"
     },
     "output_type": "display_data"
    }
   ],
   "source": [
    "df[ta_price_change_class][:200].plot(subplots=True)"
   ]
  },
  {
   "cell_type": "code",
   "execution_count": 138,
   "metadata": {},
   "outputs": [
    {
     "data": {
      "text/plain": [
       "array([<matplotlib.axes._subplots.AxesSubplot object at 0x7fdcc73cd990>],\n",
       "      dtype=object)"
      ]
     },
     "execution_count": 138,
     "metadata": {},
     "output_type": "execute_result"
    },
    {
     "data": {
      "image/png": "[encoded data removed]",
      "text/plain": [
       "<Figure size 864x432 with 1 Axes>"
      ]
     },
     "metadata": {
      "needs_background": "light"
     },
     "output_type": "display_data"
    }
   ],
   "source": [
    "df[ta_price_change][:200].plot(subplots=True)"
   ]
  },
  {
   "cell_type": "code",
   "execution_count": 139,
   "metadata": {},
   "outputs": [
    {
     "data": {
      "text/plain": [
       "array([<matplotlib.axes._subplots.AxesSubplot object at 0x7fdcc75be790>],\n",
       "      dtype=object)"
      ]
     },
     "execution_count": 139,
     "metadata": {},
     "output_type": "execute_result"
    },
    {
     "data": {
      "image/png": "[encoded data removed]",
      "text/plain": [
       "<Figure size 864x432 with 1 Axes>"
      ]
     },
     "metadata": {
      "needs_background": "light"
     },
     "output_type": "display_data"
    }
   ],
   "source": [
    "df[ta_price_change_class][:200].apply(func = lambda x : percentage_from_category(x)).plot(subplots=True)"
   ]
  },
  {
   "cell_type": "markdown",
   "metadata": {
    "colab_type": "text",
    "id": "gn8A_nrccKtn"
   },
   "source": [
    "Let's now create the data for the univariate model. For part 1, the model will be given the last 60 stock prices, and needs to learn to predict the stock price at the next time step. "
   ]
  },
  {
   "cell_type": "code",
   "execution_count": 140,
   "metadata": {
    "colab": {},
    "colab_type": "code",
    "id": "aJJ-T49vWXOZ"
   },
   "outputs": [],
   "source": [
    "past_history_size = 60\n",
    "\n",
    "uni_data_set = data_set[:, 0]\n",
    "x_train_uni, y_train_uni = univariate_data(uni_data_set, labels_set, 0, TRAIN_SPLIT,\n",
    "                                           past_history_size)\n",
    "x_val_uni, y_val_uni = univariate_data(uni_data_set, labels_set, TRAIN_SPLIT, None,\n",
    "                                       past_history_size)"
   ]
  },
  {
   "cell_type": "markdown",
   "metadata": {
    "colab_type": "text",
    "id": "uQMFAUxAC4Ra"
   },
   "source": [
    "Now that the data has been created, let's take a look at a single example. The information given to the network is given in blue, and it must predict the value at the red cross."
   ]
  },
  {
   "cell_type": "code",
   "execution_count": 141,
   "metadata": {
    "colab": {},
    "colab_type": "code",
    "id": "qVukM9dRipop"
   },
   "outputs": [],
   "source": [
    "def create_time_steps(length):\n",
    "  return list(range(-length, 0))"
   ]
  },
  {
   "cell_type": "code",
   "execution_count": 142,
   "metadata": {
    "colab": {},
    "colab_type": "code",
    "id": "QQeGvh7cWXMR"
   },
   "outputs": [],
   "source": [
    "def show_plot(plot_data, delta, title):\n",
    "  labels = ['History', 'True Future', 'Model Prediction']\n",
    "  marker = ['.-', 'rx', 'go']\n",
    "  time_steps = create_time_steps(plot_data[0].shape[0])\n",
    "  if delta:\n",
    "    future = delta\n",
    "  else:\n",
    "    future = 0\n",
    "\n",
    "  plt.title(title)\n",
    "  for i, x in enumerate(plot_data):\n",
    "    if i:\n",
    "      plt.plot(future, plot_data[i], marker[i], markersize=10,\n",
    "               label=labels[i])\n",
    "    else:\n",
    "      plt.plot(time_steps, plot_data[i].flatten(), marker[i], label=labels[i])\n",
    "  plt.legend()\n",
    "  plt.xlim([time_steps[0], (future+5)*2])\n",
    "  plt.xlabel('Time-Step')\n",
    "  return plt"
   ]
  },
  {
   "cell_type": "code",
   "execution_count": 143,
   "metadata": {
    "colab": {
     "base_uri": "https://localhost:8080/",
     "height": 421
    },
    "colab_type": "code",
    "id": "Pd05iV-UWXKL",
    "outputId": "6674b4f2-f5b4-41fd-9a64-99b850e15f13"
   },
   "outputs": [
    {
     "data": {
      "text/plain": [
       "<module 'matplotlib.pyplot' from '/opt/conda/lib/python3.7/site-packages/matplotlib/pyplot.py'>"
      ]
     },
     "execution_count": 143,
     "metadata": {},
     "output_type": "execute_result"
    },
    {
     "data": {
      "image/png": "[encoded data removed]",
      "text/plain": [
       "<Figure size 864x432 with 1 Axes>"
      ]
     },
     "metadata": {
      "needs_background": "light"
     },
     "output_type": "display_data"
    }
   ],
   "source": [
    "indx = 11\n",
    "past = x_train_uni[indx]\n",
    "future = percentage_from_category(y_train_uni[indx])\n",
    "show_plot([past, future], 0, 'Sample Example')\n",
    "# print(y_train_uni[:])"
   ]
  },
  {
   "cell_type": "code",
   "execution_count": 144,
   "metadata": {},
   "outputs": [
    {
     "data": {
      "text/plain": [
       "<module 'matplotlib.pyplot' from '/opt/conda/lib/python3.7/site-packages/matplotlib/pyplot.py'>"
      ]
     },
     "execution_count": 144,
     "metadata": {},
     "output_type": "execute_result"
    },
    {
     "data": {
      "image/png": "[encoded data removed]",
      "text/plain": [
       "<Figure size 864x432 with 1 Axes>"
      ]
     },
     "metadata": {
      "needs_background": "light"
     },
     "output_type": "display_data"
    }
   ],
   "source": [
    "indx = 12\n",
    "past = x_train_uni[indx]\n",
    "future = percentage_from_category(y_train_uni[indx])\n",
    "show_plot([past, future], 0, 'Sample Example')"
   ]
  },
  {
   "cell_type": "markdown",
   "metadata": {
    "colab_type": "text",
    "id": "H4crpOcoMlSe"
   },
   "source": [
    "### Recurrent neural network\n",
    "\n",
    "Let's now use `tf.data` to shuffle, batch, and cache the dataset."
   ]
  },
  {
   "cell_type": "code",
   "execution_count": 145,
   "metadata": {
    "colab": {},
    "colab_type": "code",
    "id": "kk-evkrmMWh9"
   },
   "outputs": [],
   "source": [
    "BATCH_SIZE = 256\n",
    "BUFFER_SIZE = 10000\n",
    "\n",
    "train_univariate = tf.data.Dataset.from_tensor_slices((x_train_uni, y_train_uni))\n",
    "train_univariate = train_univariate.cache().shuffle(BUFFER_SIZE).batch(BATCH_SIZE).repeat()\n",
    "#train_univariate = train_univariate.take(k).cache().repeat()\n",
    "\n",
    "val_univariate = tf.data.Dataset.from_tensor_slices((x_val_uni, y_val_uni))\n",
    "val_univariate = val_univariate.batch(BATCH_SIZE).repeat()"
   ]
  },
  {
   "cell_type": "code",
   "execution_count": 146,
   "metadata": {
    "colab": {
     "base_uri": "https://localhost:8080/",
     "height": 34
    },
    "colab_type": "code",
    "id": "Lj01kt0pOpWi",
    "outputId": "0398bc6b-dd48-43f2-b46e-772bd436a373"
   },
   "outputs": [
    {
     "name": "stdout",
     "output_type": "stream",
     "text": [
      "(116225, 60, 1)\n",
      "[ 0  1  2  3  4  5  6  7  8  9 10 11 12 13 14 15 16 17 18 19 20 21 22 23\n",
      " 24 25 26 27 28 29 30 31 32 33 34 35 36 37 38 39 40]\n"
     ]
    }
   ],
   "source": [
    "print(x_train_uni.shape)\n",
    "print(np.unique(labels_set))"
   ]
  },
  {
   "cell_type": "code",
   "execution_count": 147,
   "metadata": {},
   "outputs": [],
   "source": [
    "EVALUATION_INTERVAL = 5000\n",
    "EPOCHS = 20"
   ]
  },
  {
   "cell_type": "markdown",
   "metadata": {
    "colab_type": "text",
    "id": "3_UuknZYikw0"
   },
   "source": [
    "Define the optimizers we will be experimenting with:"
   ]
  },
  {
   "cell_type": "code",
   "execution_count": 148,
   "metadata": {
    "colab": {},
    "colab_type": "code",
    "id": "OMyyTOqSiiJf"
   },
   "outputs": [],
   "source": [
    "optmzer_rms=tf.keras.optimizers.RMSprop()\n",
    "optmzer_adam=tf.keras.optimizers.Adam(learning_rate=0.001)\n",
    "init = RandomUniform(minval=-0.05, maxval=0.05)"
   ]
  },
  {
   "cell_type": "markdown",
   "metadata": {
    "colab_type": "text",
    "id": "4nagdTRNfPuZ"
   },
   "source": [
    "Define a simple LSTM model:"
   ]
  },
  {
   "cell_type": "code",
   "execution_count": 171,
   "metadata": {
    "colab": {
     "base_uri": "https://localhost:8080/",
     "height": 221
    },
    "colab_type": "code",
    "id": "IDbpHosCMWZO",
    "outputId": "73b5de32-58ca-46eb-e8b9-9ac8c38a27a3"
   },
   "outputs": [
    {
     "name": "stdout",
     "output_type": "stream",
     "text": [
      "Model: \"sequential_6\"\n",
      "_________________________________________________________________\n",
      "Layer (type)                 Output Shape              Param #   \n",
      "=================================================================\n",
      "lstm_6 (LSTM)                (None, 128)               66560     \n",
      "_________________________________________________________________\n",
      "dropout_9 (Dropout)          (None, 128)               0         \n",
      "_________________________________________________________________\n",
      "dense_16 (Dense)             (None, 256)               33024     \n",
      "_________________________________________________________________\n",
      "dense_17 (Dense)             (None, 41)                10537     \n",
      "=================================================================\n",
      "Total params: 110,121\n",
      "Trainable params: 110,121\n",
      "Non-trainable params: 0\n",
      "_________________________________________________________________\n"
     ]
    }
   ],
   "source": [
    "simple_lstm_model = tf.keras.models.Sequential()\n",
    "simple_lstm_model.add(tf.keras.layers.LSTM(units=128, input_shape=x_train_uni.shape[-2:]))\n",
    "simple_lstm_model.add(tf.keras.layers.Dropout(0.1))\n",
    "simple_lstm_model.add(tf.keras.layers.Dense(units=256, activation='relu'))\n",
    "simple_lstm_model.add(tf.keras.layers.Dense(number_of_classes, activation='softmax'))\n",
    "\n",
    "\n",
    "simple_lstm_model.summary()\n",
    "simple_lstm_model.compile(optimizer=optmzer_adam, loss=tf.keras.losses.SparseCategoricalCrossentropy(from_logits=True), metrics=['accuracy', 'mae', 'mse', 'mean_absolute_percentage_error'])\n",
    "\n",
    "simple_lstm_model_checkpoint_path = \"simple_lstm_model/cp-{epoch:04d}.ckpt\"\n",
    "simple_lstm_model_checkpoint_dir = os.path.dirname(simple_lstm_model_checkpoint_path)\n",
    "\n",
    "# Create a callback that saves the model's weights\n",
    "cp_callback = tf.keras.callbacks.ModelCheckpoint(filepath=simple_lstm_model_checkpoint_path,\n",
    "                                                 save_weights_only=False,\n",
    "                                                 monitor='val_loss',\n",
    "                                                 save_best_only=True,\n",
    "                                                 verbose=1)\n",
    "\n",
    "callback_reduce_lr = ReduceLROnPlateau(monitor='val_loss',\n",
    "                                       factor=0.1,\n",
    "                                       min_lr=1e-5,\n",
    "                                       patience=2,\n",
    "                                       verbose=1)"
   ]
  },
  {
   "cell_type": "code",
   "execution_count": 172,
   "metadata": {},
   "outputs": [],
   "source": [
    "# Loads the weights\n",
    "#load_saved_model_best_weights(simple_lstm_model_checkpoint_dir, simple_lstm_model)"
   ]
  },
  {
   "cell_type": "markdown",
   "metadata": {
    "colab_type": "text",
    "id": "QYz6RN_mMyau"
   },
   "source": [
    "Let's train the model now. Due to the large size of the dataset, in the interest of saving time, each epoch will only run for 2000 steps on JupyterLab (or 200 on Colab), instead of the complete training data as normally done."
   ]
  },
  {
   "cell_type": "code",
   "execution_count": 173,
   "metadata": {
    "colab": {
     "base_uri": "https://localhost:8080/",
     "height": 717
    },
    "colab_type": "code",
    "id": "0opH9xi5MtIk",
    "outputId": "8a5ccddd-cab0-4233-a207-4f6fd2cbb249"
   },
   "outputs": [
    {
     "name": "stdout",
     "output_type": "stream",
     "text": [
      "Epoch 1/20\n",
      "5000/5000 [==============================] - ETA: 0s - loss: 3.6836 - accuracy: 0.0601 - mae: 20.0314 - mse: 486.0522 - mean_absolute_percentage_error: 12701.1553\n",
      "Epoch 00001: val_loss improved from inf to 3.69013, saving model to simple_lstm_model/cp-0001.ckpt\n",
      "INFO:tensorflow:Assets written to: simple_lstm_model/cp-0001.ckpt/assets\n",
      "5000/5000 [==============================] - 46s 9ms/step - loss: 3.6836 - accuracy: 0.0601 - mae: 20.0314 - mse: 486.0522 - mean_absolute_percentage_error: 12701.1553 - val_loss: 3.6901 - val_accuracy: 0.0494 - val_mae: 20.1418 - val_mse: 468.1819 - val_mean_absolute_percentage_error: 7727.4438 - lr: 1.0000e-05\n",
      "Epoch 2/20\n",
      "4998/5000 [============================>.] - ETA: 0s - loss: 3.6821 - accuracy: 0.0604 - mae: 20.0326 - mse: 486.1066 - mean_absolute_percentage_error: 12708.7227\n",
      "Epoch 00002: val_loss did not improve from 3.69013\n",
      "5000/5000 [==============================] - 41s 8ms/step - loss: 3.6821 - accuracy: 0.0604 - mae: 20.0323 - mse: 486.0945 - mean_absolute_percentage_error: 12703.6689 - val_loss: 3.6908 - val_accuracy: 0.0494 - val_mae: 20.1418 - val_mse: 468.1819 - val_mean_absolute_percentage_error: 7727.4438 - lr: 1.0000e-05\n",
      "Epoch 3/20\n",
      "5000/5000 [==============================] - ETA: 0s - loss: 3.6821 - accuracy: 0.0603 - mae: 20.0315 - mse: 486.0545 - mean_absolute_percentage_error: 12684.5654\n",
      "Epoch 00003: val_loss did not improve from 3.69013\n",
      "5000/5000 [==============================] - 41s 8ms/step - loss: 3.6821 - accuracy: 0.0603 - mae: 20.0315 - mse: 486.0545 - mean_absolute_percentage_error: 12684.5654 - val_loss: 3.6907 - val_accuracy: 0.0494 - val_mae: 20.1418 - val_mse: 468.1819 - val_mean_absolute_percentage_error: 7727.4438 - lr: 1.0000e-05\n",
      "Epoch 4/20\n",
      "4999/5000 [============================>.] - ETA: 0s - loss: 3.6820 - accuracy: 0.0603 - mae: 20.0308 - mse: 486.0368 - mean_absolute_percentage_error: 12687.0908\n",
      "Epoch 00004: val_loss did not improve from 3.69013\n",
      "5000/5000 [==============================] - 42s 8ms/step - loss: 3.6820 - accuracy: 0.0603 - mae: 20.0307 - mse: 486.0289 - mean_absolute_percentage_error: 12684.5684 - val_loss: 3.6912 - val_accuracy: 0.0494 - val_mae: 20.1418 - val_mse: 468.1819 - val_mean_absolute_percentage_error: 7727.4438 - lr: 1.0000e-05\n",
      "Epoch 5/20\n",
      "5000/5000 [==============================] - ETA: 0s - loss: 3.6820 - accuracy: 0.0604 - mae: 20.0326 - mse: 486.1008 - mean_absolute_percentage_error: 12703.6650\n",
      "Epoch 00005: val_loss did not improve from 3.69013\n",
      "5000/5000 [==============================] - 41s 8ms/step - loss: 3.6820 - accuracy: 0.0604 - mae: 20.0326 - mse: 486.1008 - mean_absolute_percentage_error: 12703.6650 - val_loss: 3.6912 - val_accuracy: 0.0494 - val_mae: 20.1418 - val_mse: 468.1819 - val_mean_absolute_percentage_error: 7727.4438 - lr: 1.0000e-05\n",
      "Epoch 6/20\n",
      "4994/5000 [============================>.] - ETA: 0s - loss: 3.6820 - accuracy: 0.0605 - mae: 20.0311 - mse: 486.0506 - mean_absolute_percentage_error: 12718.8389\n",
      "Epoch 00006: val_loss did not improve from 3.69013\n",
      "5000/5000 [==============================] - 41s 8ms/step - loss: 3.6820 - accuracy: 0.0605 - mae: 20.0311 - mse: 486.0490 - mean_absolute_percentage_error: 12703.6631 - val_loss: 3.6908 - val_accuracy: 0.0495 - val_mae: 20.1418 - val_mse: 468.1819 - val_mean_absolute_percentage_error: 7727.4438 - lr: 1.0000e-05\n"
     ]
    }
   ],
   "source": [
    "early_stopping = tf.keras.callbacks.EarlyStopping(monitor='val_loss', patience=5, mode='min', restore_best_weights=True)\n",
    "\n",
    "single_step_univar_loss_history = simple_lstm_model.fit(train_univariate, \n",
    "                      epochs=EPOCHS,\n",
    "                      steps_per_epoch=EVALUATION_INTERVAL,\n",
    "                      validation_data=val_univariate, \n",
    "                      validation_steps=200,\n",
    "                      callbacks=[early_stopping, callback_reduce_lr, cp_callback]\n",
    "                      )"
   ]
  },
  {
   "cell_type": "code",
   "execution_count": 174,
   "metadata": {},
   "outputs": [
    {
     "name": "stdout",
     "output_type": "stream",
     "text": [
      "\n",
      "# Evaluate on validation data\n",
      "200/200 [==============================] - 1s 5ms/step - loss: 3.6901 - accuracy: 0.0494 - mae: 20.1418 - mse: 468.1819 - mean_absolute_percentage_error: 7727.4438\n"
     ]
    }
   ],
   "source": [
    "# Evaluate the model on the validation data using `evaluate`\n",
    "print('\\n# Evaluate on validation data')\n",
    "results = simple_lstm_model.evaluate(val_univariate, steps=200)"
   ]
  },
  {
   "cell_type": "code",
   "execution_count": 175,
   "metadata": {
    "colab": {
     "base_uri": "https://localhost:8080/",
     "height": 390
    },
    "colab_type": "code",
    "id": "F_Jw5JLrgsb1",
    "outputId": "99c277fe-7156-4e1f-8c3c-42275e32e25c"
   },
   "outputs": [
    {
     "data": {
      "image/png": "[encoded data removed]",
      "text/plain": [
       "<Figure size 864x432 with 1 Axes>"
      ]
     },
     "metadata": {
      "needs_background": "light"
     },
     "output_type": "display_data"
    }
   ],
   "source": [
    "plot_train_history(single_step_univar_loss_history,\n",
    "                   'Single Step Training and validation loss')"
   ]
  },
  {
   "cell_type": "markdown",
   "metadata": {
    "colab_type": "text",
    "id": "euyPo_lyNryZ"
   },
   "source": [
    "#### Predict using the simple LSTM model\n",
    "Now that we have trained our simple LSTM, let's try and make a few predictions."
   ]
  },
  {
   "cell_type": "code",
   "execution_count": null,
   "metadata": {
    "colab": {
     "base_uri": "https://localhost:8080/",
     "height": 1000
    },
    "colab_type": "code",
    "id": "S2rRLrs8MtGU",
    "outputId": "6651c997-ff87-46a5-db03-42e28609990d"
   },
   "outputs": [],
   "source": [
    "for x, y in val_univariate.take(30):\n",
    "    true_future = percentage_from_category(y[0])\n",
    "    predicted_future = simple_lstm_model.predict(x)[0]\n",
    "    arx = tf.math.argmax(pr)\n",
    "    #print(\"true=%s -- predict=%s\" % (true_future, tf.print(arx))\n",
    "    tf.print(\"true=%s -- predict=%s\" % (y[0], arx + 1))\n",
    "    predicted_future = percentage_from_category(tf.cast(arx, tf.float32) + 1)\n",
    "    plot = show_plot([x[0].numpy(), true_future, predicted_future], 0, 'Simple LSTM model')\n",
    "    plot.show()"
   ]
  },
  {
   "cell_type": "markdown",
   "metadata": {
    "colab_type": "text",
    "id": "VlJYi3_HXcw8"
   },
   "source": [
    "## Part 2: Predict a multivariate time series"
   ]
  },
  {
   "cell_type": "code",
   "execution_count": 42,
   "metadata": {},
   "outputs": [
    {
     "name": "stdout",
     "output_type": "stream",
     "text": [
      "[[-1.90114068e-02 -4.43540154e-01  1.00000000e+00  1.00000000e+00\n",
      "   1.00000000e+00  1.00000000e+00  9.96065241e-01  1.00120751e+00\n",
      "   1.00634537e+00  9.96340960e-01  1.00128308e+00  1.00550757e+00\n",
      "   9.88442783e-01  9.93605780e-01  9.98641557e-01  9.72638281e-01\n",
      "   9.78411314e-01  9.82956992e-01  9.37981185e-01  9.43721046e-01\n",
      "   9.48818103e-01  8.99795936e-01  9.06393455e-01  9.12852140e-01\n",
      "   8.54081824e-01  8.60990131e-01  8.67612186e-01  1.00123151e+00\n",
      "   1.00056328e+00  9.99895057e-01  1.00087931e+00  1.00019111e+00\n",
      "   9.99502898e-01  4.56315548e-01  4.21052632e-01  3.20292398e-01\n",
      "  -1.48879395e-02 -4.83632619e-03 -1.00516133e-02]\n",
      " [ 1.90150219e-02 -4.36674712e-01  1.00000000e+00  1.00000000e+00\n",
      "   1.00000000e+00  1.00000000e+00  9.95875875e-01  1.00101717e+00\n",
      "   1.00615405e+00  9.96151542e-01  1.00109272e+00  1.00531641e+00\n",
      "   9.88254867e-01  9.93416882e-01  9.98451702e-01  9.72453369e-01\n",
      "   9.78225305e-01  9.82770118e-01  9.37802861e-01  9.43541631e-01\n",
      "   9.48637719e-01  8.99624872e-01  9.06221137e-01  9.12678594e-01\n",
      "   8.53919451e-01  8.60826444e-01  8.67447240e-01  1.00100773e+00\n",
      "   1.00033955e+00  9.99671364e-01  1.00059154e+00  9.99948589e-01\n",
      "   9.99305640e-01  4.93445549e-01  4.73684211e-01  4.17134503e-01\n",
      "  -1.30691047e-02 -6.48288189e-03 -6.58622277e-03]\n",
      " [-1.20405577e-02 -4.43661374e-01  9.99993662e-01  9.99993662e-01\n",
      "   9.99993662e-01  9.99993662e-01  9.95995799e-01  1.00113771e+00\n",
      "   1.00627521e+00  9.96271498e-01  1.00121327e+00  1.00543747e+00\n",
      "   9.88373872e-01  9.93536509e-01  9.98571935e-01  9.72570472e-01\n",
      "   9.78343103e-01  9.82888463e-01  9.37915792e-01  9.43655252e-01\n",
      "   9.48751954e-01  8.99733205e-01  9.06330264e-01  9.12788499e-01\n",
      "   8.54022280e-01  8.60930105e-01  8.67551699e-01  1.00109995e+00\n",
      "   1.00042561e+00  9.99751281e-01  1.00048777e+00  1.00002744e+00\n",
      "   9.99567116e-01  4.71484045e-01  4.40350877e-01  4.45029240e-01\n",
      "  -1.30108255e-02 -7.78847060e-03 -5.22235486e-03]\n",
      " [ 3.14993567e-02 -4.32454064e-01  9.99678770e-01  1.00005892e+00\n",
      "   9.99678770e-01  1.00005892e+00  9.95682165e-01  1.00082246e+00\n",
      "   1.00595834e+00  9.95957778e-01  1.00089800e+00  1.00512086e+00\n",
      "   9.88062639e-01  9.93223650e-01  9.98257491e-01  9.72264215e-01\n",
      "   9.78035028e-01  9.82578957e-01  9.37620447e-01  9.43358101e-01\n",
      "   9.48453197e-01  8.99449884e-01  9.06044866e-01  9.12501067e-01\n",
      "   8.53753354e-01  8.60659003e-01  8.67278511e-01  1.00075297e+00\n",
      "   1.00007706e+00  9.99401137e-01  1.00014218e+00  9.99687876e-01\n",
      "   9.99233569e-01  5.30364510e-01  5.46842105e-01  4.86959064e-01\n",
      "  -8.85222124e-03 -8.00122073e-03 -8.51000511e-04]\n",
      " [ 1.22282927e-02 -4.43286695e-01  1.00000000e+00  1.00000000e+00\n",
      "   1.00000000e+00  1.00000000e+00  9.95560425e-01  1.00070009e+00\n",
      "   1.00583535e+00  9.95836004e-01  1.00077562e+00  1.00499797e+00\n",
      "   9.87941830e-01  9.93102211e-01  9.98135436e-01  9.72145338e-01\n",
      "   9.77915446e-01  9.82458819e-01  9.37505806e-01  9.43242758e-01\n",
      "   9.48337232e-01  8.99339910e-01  9.05934086e-01  9.12389497e-01\n",
      "   8.53648967e-01  8.60553772e-01  8.67172471e-01  1.00060689e+00\n",
      "   9.99923756e-01  9.99240627e-01  1.00010123e+00  9.99561276e-01\n",
      "   9.99021319e-01  5.51271080e-01  6.34561404e-01  5.40584795e-01\n",
      "  -3.95357439e-03 -7.19169146e-03  3.23811707e-03]]\n"
     ]
    }
   ],
   "source": [
    "print(data_set[-5:])"
   ]
  },
  {
   "cell_type": "markdown",
   "metadata": {
    "colab_type": "text",
    "id": "2GnE087bJYSu"
   },
   "source": [
    "### Multi-Step model\n",
    "In a multi-step prediction model, given a past history, the model needs to learn to predict a range of future values. Thus, unlike a single step model, where only a single future point is predicted, a multi-step model predict a sequence of the future.\n",
    "\n",
    "For the multi-step model, the training data again consists of trade aggregations over the past sampled every few minutes. For this task, the dataset needs to be prepared accordingly, thus the first step is just to create it again, but with a different target window."
   ]
  },
  {
   "cell_type": "code",
   "execution_count": 190,
   "metadata": {
    "colab": {},
    "colab_type": "code",
    "id": "d-rVX4d3OF86"
   },
   "outputs": [],
   "source": [
    "def multivariate_data(dataset, target, start_index, end_index, history_size, step):\n",
    "  data = []\n",
    "  labels = []\n",
    "\n",
    "  start_index = start_index + history_size\n",
    "  if end_index is None:\n",
    "    end_index = len(dataset)\n",
    "\n",
    "  for i in range(start_index, end_index):\n",
    "    indices = range(i-history_size, i, step)\n",
    "    data.append(dataset[indices])\n",
    "    labels.append(target[i])\n",
    "\n",
    "  return np.array(data), np.array(labels)"
   ]
  },
  {
   "cell_type": "code",
   "execution_count": 191,
   "metadata": {
    "colab": {},
    "colab_type": "code",
    "id": "kZCk9fqyJZqX"
   },
   "outputs": [],
   "source": [
    "past_history = 30\n",
    "STEP = 1\n",
    "\n",
    "x_train_multi, y_train_multi = multivariate_data(data_set, labels_set, 0, TRAIN_SPLIT, past_history, STEP)\n",
    "x_val_multi, y_val_multi = multivariate_data(data_set, labels_set, TRAIN_SPLIT, None, past_history, STEP)"
   ]
  },
  {
   "cell_type": "code",
   "execution_count": 192,
   "metadata": {},
   "outputs": [
    {
     "data": {
      "text/plain": [
       "(136806, 60)"
      ]
     },
     "execution_count": 192,
     "metadata": {},
     "output_type": "execute_result"
    }
   ],
   "source": [
    "data_set.shape"
   ]
  },
  {
   "cell_type": "markdown",
   "metadata": {
    "colab_type": "text",
    "id": "LImXPwAGRtWy"
   },
   "source": [
    "Let's check out a sample data-point."
   ]
  },
  {
   "cell_type": "code",
   "execution_count": 193,
   "metadata": {
    "colab": {
     "base_uri": "https://localhost:8080/",
     "height": 68
    },
    "colab_type": "code",
    "id": "SpWDcBkQRwS-",
    "outputId": "ef98af74-4e3f-4c31-9868-d06b6adc4276"
   },
   "outputs": [
    {
     "name": "stdout",
     "output_type": "stream",
     "text": [
      "Single window of past history : (30, 60)\n",
      "\n",
      " Target price to predict : ()\n"
     ]
    }
   ],
   "source": [
    "print ('Single window of past history : {}'.format(x_train_multi[0].shape))\n",
    "print ('\\n Target price to predict : {}'.format(y_train_multi[0].shape))"
   ]
  },
  {
   "cell_type": "code",
   "execution_count": 194,
   "metadata": {
    "colab": {},
    "colab_type": "code",
    "id": "cjR4PJArMOpA"
   },
   "outputs": [],
   "source": [
    "train_data_multi = tf.data.Dataset.from_tensor_slices((x_train_multi, y_train_multi))\n",
    "train_data_multi = train_data_multi.cache().shuffle(BUFFER_SIZE).batch(BATCH_SIZE).repeat()\n",
    "\n",
    "val_data_multi = tf.data.Dataset.from_tensor_slices((x_val_multi, y_val_multi))\n",
    "val_data_multi = val_data_multi.batch(BATCH_SIZE).repeat()\n"
   ]
  },
  {
   "cell_type": "markdown",
   "metadata": {
    "colab_type": "text",
    "id": "IZcg8FWpSG8K"
   },
   "source": [
    "Plotting a sample data-point."
   ]
  },
  {
   "cell_type": "code",
   "execution_count": 195,
   "metadata": {
    "colab": {},
    "colab_type": "code",
    "id": "ksXKVbwBV7D3"
   },
   "outputs": [],
   "source": [
    "def multi_step_plot(history, true_future, prediction):\n",
    "  plt.figure(figsize=(12, 6))\n",
    "  num_in = create_time_steps(len(history))\n",
    "  num_out = 1\n",
    "\n",
    "  plt.plot(num_in, np.array(history[:, 0]), label='History')\n",
    "  plt.plot(np.arange(num_out)/STEP, np.array(true_future), 'bo',\n",
    "           label='True Future')\n",
    "  if prediction.any():\n",
    "    plt.plot(np.arange(num_out)/STEP, np.array(prediction), 'ro',\n",
    "             label='Predicted Future')\n",
    "  plt.legend(loc='upper left')\n",
    "  plt.show()"
   ]
  },
  {
   "cell_type": "code",
   "execution_count": 203,
   "metadata": {},
   "outputs": [],
   "source": [
    "optmzer_rms=tf.keras.optimizers.RMSprop()\n",
    "optmzer_adam=tf.keras.optimizers.Adam(learning_rate=0.001)\n",
    "def cost(y_true,y_pred):\n",
    "    tf.reduce_mean(tf.square(tf.sub(y_true,y_pred)))"
   ]
  },
  {
   "cell_type": "code",
   "execution_count": 204,
   "metadata": {},
   "outputs": [
    {
     "name": "stdout",
     "output_type": "stream",
     "text": [
      "[ 1.  2.  3.  4.  5.  6.  7.  8.  9. 10. 11. 12. 13. 14. 15. 16. 17. 18.\n",
      " 19. 20. 21. 22. 23. 24. 25. 26. 27. 28. 29. 30. 31. 32. 33. 34. 35. 36.\n",
      " 37. 38. 39. 40. 41.]\n"
     ]
    }
   ],
   "source": [
    "weights = np.arange(1,number_of_classes + 1, dtype='float64')\n",
    "print(weights)\n",
    "\n",
    "@tf.function\n",
    "def normalize(xx):\n",
    "    result = tf.tensordot(xx, weights, axes=(1, 0))\n",
    "    return tf.math.add(result, -1) # subtract 1 to make it 0-based index"
   ]
  },
  {
   "cell_type": "markdown",
   "metadata": {
    "colab_type": "text",
    "id": "XOjz8DzZ4HFS"
   },
   "source": [
    "#### Model 1: LSTM + CNN"
   ]
  },
  {
   "cell_type": "code",
   "execution_count": 205,
   "metadata": {
    "colab": {
     "base_uri": "https://localhost:8080/",
     "height": 258
    },
    "colab_type": "code",
    "id": "byAl0NKSNBP6",
    "outputId": "99feb8a9-bf87-4573-f7ac-82f676c76c7d"
   },
   "outputs": [
    {
     "name": "stdout",
     "output_type": "stream",
     "text": [
      "(30, 60)\n",
      "Model: \"sequential_7\"\n",
      "_________________________________________________________________\n",
      "Layer (type)                 Output Shape              Param #   \n",
      "=================================================================\n",
      "lstm_7 (LSTM)                (None, 128)               96768     \n",
      "_________________________________________________________________\n",
      "dropout_10 (Dropout)         (None, 128)               0         \n",
      "_________________________________________________________________\n",
      "dense_18 (Dense)             (None, 128)               16512     \n",
      "_________________________________________________________________\n",
      "dense_19 (Dense)             (None, 41)                5289      \n",
      "_________________________________________________________________\n",
      "lambda (Lambda)              (None,)                   0         \n",
      "=================================================================\n",
      "Total params: 118,569\n",
      "Trainable params: 118,569\n",
      "Non-trainable params: 0\n",
      "_________________________________________________________________\n"
     ]
    }
   ],
   "source": [
    "tf.keras.backend.set_floatx('float64')\n",
    "lstm_cnn_model = tf.keras.models.Sequential()\n",
    "lstm_cnn_model.add(tf.keras.layers.LSTM(128, input_shape=x_train_multi.shape[-2:]))\n",
    "lstm_cnn_model.add(tf.keras.layers.Dropout(0.2))\n",
    "#lstm_cnn_model.add(tf.keras.layers.LSTM(32, activation='relu'))\n",
    "#lstm_cnn_model.add(tf.keras.layers.LSTM(128, activation='relu'))\n",
    "#lstm_cnn_model.add(tf.keras.layers.LSTM(25, activation='relu'))\n",
    "#lstm_cnn_model.add(tf.keras.layers.LSTM(16, activation='relu'))\n",
    "#lstm_cnn_model.add(tf.keras.layers.Flatten())\n",
    "lstm_cnn_model.add(tf.keras.layers.Dense(128))\n",
    "lstm_cnn_model.add(tf.keras.layers.Dense(number_of_classes, activation='softmax'))\n",
    "lstm_cnn_model.add(tf.keras.layers.Lambda(lambda xx: normalize(xx) ))\n",
    "\n",
    "lstm_cnn_model.compile(optimizer=optmzer_adam, loss=tf.keras.losses.SparseCategoricalCrossentropy(from_logits=True), metrics=['accuracy', 'mae', 'mse', 'mean_absolute_percentage_error'])\n",
    "lstm_cnn_model.summary()"
   ]
  },
  {
   "cell_type": "markdown",
   "metadata": {
    "colab_type": "text",
    "id": "UvB7zBqVSMyl"
   },
   "source": [
    "Let's see how the model predicts before it trains."
   ]
  },
  {
   "cell_type": "code",
   "execution_count": 206,
   "metadata": {
    "colab": {
     "base_uri": "https://localhost:8080/",
     "height": 34
    },
    "colab_type": "code",
    "id": "13_ZWvB9SRlZ",
    "outputId": "d6256f54-1ab5-42a2-ef18-22f828811f4d"
   },
   "outputs": [
    {
     "name": "stdout",
     "output_type": "stream",
     "text": [
      "(256, 30, 60)\n",
      "(256,)\n"
     ]
    }
   ],
   "source": [
    "for x, y in val_data_multi.take(1):\n",
    "  print(x.shape)\n",
    "  print (multi_step_model.predict(x).shape)"
   ]
  },
  {
   "cell_type": "code",
   "execution_count": 207,
   "metadata": {},
   "outputs": [],
   "source": [
    "lstm_cnn_model_checkpoint_path = \"lstm_cnn_model/cp-{epoch:04d}.ckpt\"\n",
    "lstm_cnn_model_checkpoint_dir = os.path.dirname(lstm_cnn_model_checkpoint_path)\n",
    "\n",
    "# Loads the weights\n",
    "#load_saved_model_best_weights(lstm_cnn_model_checkpoint_dir, lstm_cnn_model_model)"
   ]
  },
  {
   "cell_type": "code",
   "execution_count": null,
   "metadata": {
    "colab": {
     "base_uri": "https://localhost:8080/",
     "height": 717
    },
    "colab_type": "code",
    "id": "7uwOhXo3Oems",
    "outputId": "2d00d031-2da8-4b72-9816-3b13651640ad"
   },
   "outputs": [
    {
     "name": "stdout",
     "output_type": "stream",
     "text": [
      "Epoch 1/50\n",
      "10000/10000 [==============================] - ETA: 0s - loss: 84.7955 - mae: 8.3484 - mean_absolute_percentage_error: 10292233.6203\n",
      "Epoch 00001: val_loss improved from inf to 62.26073, saving model to multi_step_model/cp-0001.ckpt\n",
      "INFO:tensorflow:Assets written to: multi_step_model/cp-0001.ckpt/assets\n",
      "10000/10000 [==============================] - 291s 29ms/step - loss: 84.7955 - mae: 8.3484 - mean_absolute_percentage_error: 10292233.6203 - val_loss: 62.2607 - val_mae: 6.9677 - val_mean_absolute_percentage_error: 5859666.0755 - lr: 0.0010\n",
      "Epoch 2/50\n",
      "10000/10000 [==============================] - ETA: 0s - loss: 84.7058 - mae: 8.3424 - mean_absolute_percentage_error: 10275026.4097\n",
      "Epoch 00002: val_loss did not improve from 62.26073\n",
      "10000/10000 [==============================] - 286s 29ms/step - loss: 84.7058 - mae: 8.3424 - mean_absolute_percentage_error: 10275026.4097 - val_loss: 62.2610 - val_mae: 6.9677 - val_mean_absolute_percentage_error: 5859421.2615 - lr: 0.0010\n",
      "Epoch 3/50\n",
      "10000/10000 [==============================] - ETA: 0s - loss: 84.6061 - mae: 8.3339 - mean_absolute_percentage_error: 10317406.1171\n",
      "Epoch 00003: ReduceLROnPlateau reducing learning rate to 0.00010000000474974513.\n",
      "\n",
      "Epoch 00003: val_loss did not improve from 62.26073\n",
      "10000/10000 [==============================] - 287s 29ms/step - loss: 84.6061 - mae: 8.3339 - mean_absolute_percentage_error: 10317406.1171 - val_loss: 62.2610 - val_mae: 6.9677 - val_mean_absolute_percentage_error: 5859426.1266 - lr: 0.0010\n",
      "Epoch 4/50\n",
      "10000/10000 [==============================] - ETA: 0s - loss: 83.8989 - mae: 8.2849 - mean_absolute_percentage_error: 10547888.0955\n",
      "Epoch 00004: val_loss improved from 62.26073 to 61.19306, saving model to multi_step_model/cp-0004.ckpt\n",
      "INFO:tensorflow:Assets written to: multi_step_model/cp-0004.ckpt/assets\n",
      "10000/10000 [==============================] - 290s 29ms/step - loss: 83.8989 - mae: 8.2849 - mean_absolute_percentage_error: 10547888.0955 - val_loss: 61.1931 - val_mae: 6.8948 - val_mean_absolute_percentage_error: 5935104.0617 - lr: 1.0000e-04\n",
      "Epoch 5/50\n",
      "10000/10000 [==============================] - ETA: 0s - loss: 83.2613 - mae: 8.2349 - mean_absolute_percentage_error: 10901437.5001\n",
      "Epoch 00005: val_loss improved from 61.19306 to 61.10887, saving model to multi_step_model/cp-0005.ckpt\n",
      "INFO:tensorflow:Assets written to: multi_step_model/cp-0005.ckpt/assets\n",
      "10000/10000 [==============================] - 290s 29ms/step - loss: 83.2613 - mae: 8.2349 - mean_absolute_percentage_error: 10901437.5001 - val_loss: 61.1089 - val_mae: 6.8872 - val_mean_absolute_percentage_error: 5928868.8485 - lr: 1.0000e-04\n",
      "Epoch 6/50\n",
      "10000/10000 [==============================] - ETA: 0s - loss: 82.8810 - mae: 8.2023 - mean_absolute_percentage_error: 10820035.7092\n",
      "Epoch 00006: val_loss improved from 61.10887 to 60.08329, saving model to multi_step_model/cp-0006.ckpt\n",
      "INFO:tensorflow:Assets written to: multi_step_model/cp-0006.ckpt/assets\n",
      "10000/10000 [==============================] - 291s 29ms/step - loss: 82.8810 - mae: 8.2023 - mean_absolute_percentage_error: 10820035.7092 - val_loss: 60.0833 - val_mae: 6.7973 - val_mean_absolute_percentage_error: 5966256.2122 - lr: 1.0000e-04\n",
      "Epoch 7/50\n",
      "10000/10000 [==============================] - ETA: 0s - loss: 82.0147 - mae: 8.1349 - mean_absolute_percentage_error: 10895303.1694\n",
      "Epoch 00007: val_loss did not improve from 60.08329\n",
      "10000/10000 [==============================] - 287s 29ms/step - loss: 82.0147 - mae: 8.1349 - mean_absolute_percentage_error: 10895303.1694 - val_loss: 60.3762 - val_mae: 6.8253 - val_mean_absolute_percentage_error: 5801417.9046 - lr: 1.0000e-04\n",
      "Epoch 8/50\n",
      "10000/10000 [==============================] - ETA: 0s - loss: 81.6992 - mae: 8.1119 - mean_absolute_percentage_error: 10834446.3840\n",
      "Epoch 00008: val_loss improved from 60.08329 to 59.91743, saving model to multi_step_model/cp-0008.ckpt\n",
      "INFO:tensorflow:Assets written to: multi_step_model/cp-0008.ckpt/assets\n",
      "10000/10000 [==============================] - 290s 29ms/step - loss: 81.6992 - mae: 8.1119 - mean_absolute_percentage_error: 10834446.3840 - val_loss: 59.9174 - val_mae: 6.7814 - val_mean_absolute_percentage_error: 6029101.2170 - lr: 1.0000e-04\n",
      "Epoch 9/50\n",
      "10000/10000 [==============================] - ETA: 0s - loss: 81.3630 - mae: 8.0892 - mean_absolute_percentage_error: 10952352.9189\n",
      "Epoch 00009: val_loss improved from 59.91743 to 59.79517, saving model to multi_step_model/cp-0009.ckpt\n",
      "INFO:tensorflow:Assets written to: multi_step_model/cp-0009.ckpt/assets\n",
      "10000/10000 [==============================] - 291s 29ms/step - loss: 81.3630 - mae: 8.0892 - mean_absolute_percentage_error: 10952352.9189 - val_loss: 59.7952 - val_mae: 6.7781 - val_mean_absolute_percentage_error: 5982279.7992 - lr: 1.0000e-04\n",
      "Epoch 10/50\n",
      "10000/10000 [==============================] - ETA: 0s - loss: 80.8796 - mae: 8.0524 - mean_absolute_percentage_error: 10896783.6111\n",
      "Epoch 00010: val_loss improved from 59.79517 to 59.30903, saving model to multi_step_model/cp-0010.ckpt\n",
      "INFO:tensorflow:Assets written to: multi_step_model/cp-0010.ckpt/assets\n",
      "10000/10000 [==============================] - 291s 29ms/step - loss: 80.8796 - mae: 8.0524 - mean_absolute_percentage_error: 10896783.6111 - val_loss: 59.3090 - val_mae: 6.7506 - val_mean_absolute_percentage_error: 5989086.6639 - lr: 1.0000e-04\n",
      "Epoch 11/50\n",
      "10000/10000 [==============================] - ETA: 0s - loss: 80.4886 - mae: 8.0213 - mean_absolute_percentage_error: 10915694.8962\n",
      "Epoch 00011: val_loss improved from 59.30903 to 59.20893, saving model to multi_step_model/cp-0011.ckpt\n",
      "INFO:tensorflow:Assets written to: multi_step_model/cp-0011.ckpt/assets\n",
      "10000/10000 [==============================] - 291s 29ms/step - loss: 80.4886 - mae: 8.0213 - mean_absolute_percentage_error: 10915694.8962 - val_loss: 59.2089 - val_mae: 6.7449 - val_mean_absolute_percentage_error: 5991598.0127 - lr: 1.0000e-04\n",
      "Epoch 12/50\n",
      "10000/10000 [==============================] - ETA: 0s - loss: 80.1885 - mae: 7.9965 - mean_absolute_percentage_error: 10858836.4761\n",
      "Epoch 00012: val_loss did not improve from 59.20893\n",
      "10000/10000 [==============================] - 287s 29ms/step - loss: 80.1885 - mae: 7.9965 - mean_absolute_percentage_error: 10858836.4761 - val_loss: 60.1397 - val_mae: 6.7938 - val_mean_absolute_percentage_error: 5980429.2358 - lr: 1.0000e-04\n",
      "Epoch 13/50\n",
      " 9999/10000 [============================>.] - ETA: 0s - loss: 80.0241 - mae: 7.9850 - mean_absolute_percentage_error: 10853046.0583\n",
      "Epoch 00013: val_loss improved from 59.20893 to 58.59997, saving model to multi_step_model/cp-0013.ckpt\n",
      "INFO:tensorflow:Assets written to: multi_step_model/cp-0013.ckpt/assets\n",
      "10000/10000 [==============================] - 290s 29ms/step - loss: 80.0250 - mae: 7.9851 - mean_absolute_percentage_error: 10851960.7603 - val_loss: 58.6000 - val_mae: 6.6709 - val_mean_absolute_percentage_error: 6005502.7955 - lr: 1.0000e-04\n",
      "Epoch 14/50\n",
      "10000/10000 [==============================] - ETA: 0s - loss: 79.8581 - mae: 7.9728 - mean_absolute_percentage_error: 10811273.9472\n",
      "Epoch 00014: val_loss did not improve from 58.59997\n",
      "10000/10000 [==============================] - 287s 29ms/step - loss: 79.8581 - mae: 7.9728 - mean_absolute_percentage_error: 10811273.9472 - val_loss: 58.7226 - val_mae: 6.6695 - val_mean_absolute_percentage_error: 6027959.8282 - lr: 1.0000e-04\n",
      "Epoch 15/50\n",
      "10000/10000 [==============================] - ETA: 0s - loss: 79.7437 - mae: 7.9647 - mean_absolute_percentage_error: 10759252.0256\n",
      "Epoch 00015: ReduceLROnPlateau reducing learning rate to 1.0000000474974514e-05.\n",
      "\n",
      "Epoch 00015: val_loss did not improve from 58.59997\n",
      "10000/10000 [==============================] - 287s 29ms/step - loss: 79.7437 - mae: 7.9647 - mean_absolute_percentage_error: 10759252.0256 - val_loss: 59.3263 - val_mae: 6.7040 - val_mean_absolute_percentage_error: 5990417.7470 - lr: 1.0000e-04\n",
      "Epoch 16/50\n",
      "10000/10000 [==============================] - ETA: 0s - loss: 79.2258 - mae: 7.9258 - mean_absolute_percentage_error: 10844356.9370\n",
      "Epoch 00016: val_loss improved from 58.59997 to 58.24224, saving model to multi_step_model/cp-0016.ckpt\n",
      "INFO:tensorflow:Assets written to: multi_step_model/cp-0016.ckpt/assets\n",
      "10000/10000 [==============================] - 291s 29ms/step - loss: 79.2258 - mae: 7.9258 - mean_absolute_percentage_error: 10844356.9370 - val_loss: 58.2422 - val_mae: 6.6566 - val_mean_absolute_percentage_error: 5968783.9721 - lr: 1.0000e-05\n",
      "Epoch 17/50\n",
      "10000/10000 [==============================] - ETA: 0s - loss: 79.2091 - mae: 7.9231 - mean_absolute_percentage_error: 10753061.5994\n",
      "Epoch 00017: val_loss did not improve from 58.24224\n",
      "10000/10000 [==============================] - 288s 29ms/step - loss: 79.2091 - mae: 7.9231 - mean_absolute_percentage_error: 10753061.5994 - val_loss: 58.3928 - val_mae: 6.6657 - val_mean_absolute_percentage_error: 5956112.8466 - lr: 1.0000e-05\n",
      "Epoch 18/50\n",
      "10000/10000 [==============================] - ETA: 0s - loss: 79.1686 - mae: 7.9199 - mean_absolute_percentage_error: 10773139.4306\n",
      "Epoch 00018: val_loss improved from 58.24224 to 58.14491, saving model to multi_step_model/cp-0018.ckpt\n",
      "INFO:tensorflow:Assets written to: multi_step_model/cp-0018.ckpt/assets\n",
      "10000/10000 [==============================] - 291s 29ms/step - loss: 79.1686 - mae: 7.9199 - mean_absolute_percentage_error: 10773139.4306 - val_loss: 58.1449 - val_mae: 6.6422 - val_mean_absolute_percentage_error: 5965315.0628 - lr: 1.0000e-05\n",
      "Epoch 19/50\n",
      "10000/10000 [==============================] - ETA: 0s - loss: 79.1379 - mae: 7.9172 - mean_absolute_percentage_error: 10892011.4913\n",
      "Epoch 00019: val_loss improved from 58.14491 to 58.11652, saving model to multi_step_model/cp-0019.ckpt\n",
      "INFO:tensorflow:Assets written to: multi_step_model/cp-0019.ckpt/assets\n",
      "10000/10000 [==============================] - 291s 29ms/step - loss: 79.1379 - mae: 7.9172 - mean_absolute_percentage_error: 10892011.4913 - val_loss: 58.1165 - val_mae: 6.6374 - val_mean_absolute_percentage_error: 5978074.0068 - lr: 1.0000e-05\n",
      "Epoch 20/50\n",
      " 5527/10000 [===============>..............] - ETA: 2:07 - loss: 79.1524 - mae: 7.9167 - mean_absolute_percentage_error: 10740918.6420"
     ]
    }
   ],
   "source": [
    "early_stopping = tf.keras.callbacks.EarlyStopping(monitor='val_loss', patience=10, mode='min', restore_best_weights=True)\n",
    "\n",
    "# Create a callback that saves the model's weights\n",
    "lstm_cnn_cp_callback = tf.keras.callbacks.ModelCheckpoint(filepath=lstm_cnn_model_checkpoint_path,\n",
    "                                                 save_weights_only=False,\n",
    "                                                 monitor='val_loss',\n",
    "                                                 save_best_only=True,\n",
    "                                                 verbose=1)\n",
    "\n",
    "callback_reduce_lr = ReduceLROnPlateau(monitor='val_loss',\n",
    "                                       factor=0.1,\n",
    "                                       min_lr=1e-6,\n",
    "                                       patience=2,\n",
    "                                       verbose=1)\n",
    "\n",
    "lstm_cnn_model_history = lstm_cnn_model.fit(train_data_multi, epochs=50,\n",
    "                                          steps_per_epoch=10000,\n",
    "                                          validation_data=val_data_multi,\n",
    "                                          validation_steps=200,\n",
    "                                          callbacks=[early_stopping, callback_reduce_lr, lstm_cnn_cp_callback]\n",
    "                                          )"
   ]
  },
  {
   "cell_type": "code",
   "execution_count": 105,
   "metadata": {},
   "outputs": [
    {
     "name": "stdout",
     "output_type": "stream",
     "text": [
      "\n",
      "# Evaluate on validation data\n",
      "200/200 [==============================] - 2s 8ms/step - loss: 5.8829 - mae: 1.9839 - mean_absolute_percentage_error: 355154.9015\n"
     ]
    }
   ],
   "source": [
    "# Evaluate the model on the validation data using `evaluate`\n",
    "print('\\n# Evaluate on validation data')\n",
    "results = lstm_cnn_model.evaluate(val_data_multi, steps=200)"
   ]
  },
  {
   "cell_type": "code",
   "execution_count": 106,
   "metadata": {
    "colab": {
     "base_uri": "https://localhost:8080/",
     "height": 390
    },
    "colab_type": "code",
    "id": "UKfQoBjQ5l7U",
    "outputId": "4d2a20b4-2d19-43a5-8b11-b966c197dec7"
   },
   "outputs": [
    {
     "data": {
      "image/png": "[encoded data removed]",
      "text/plain": [
       "<Figure size 864x432 with 1 Axes>"
      ]
     },
     "metadata": {
      "needs_background": "light"
     },
     "output_type": "display_data"
    }
   ],
   "source": [
    "plot_train_history(lstm_cnn_model_history, 'lstm_cnn_model Training and validation loss')"
   ]
  },
  {
   "cell_type": "markdown",
   "metadata": {
    "colab_type": "text",
    "id": "oDg94-yq4pas"
   },
   "source": [
    "#### Predict the future\n",
    "Let's now have a look at how well our network has learnt to predict the future."
   ]
  },
  {
   "cell_type": "code",
   "execution_count": null,
   "metadata": {
    "colab": {
     "base_uri": "https://localhost:8080/",
     "height": 1000
    },
    "colab_type": "code",
    "id": "dt22wq6fyIBU",
    "outputId": "18980e2a-bee1-4608-9182-f88994a314c0"
   },
   "outputs": [],
   "source": [
    "for x, y in val_data_multi.take(10):\n",
    "    true_future = percentage_from_category(y[0])\n",
    "    predicted_future = percentage_from_category(multi_step_model.predict(x)[0])\n",
    "    #arx = pr #tf.math.argmax(pr)\n",
    "    #print(\"true=%s -- predict=%s\" % (true_future, tf.print(arx))\n",
    "    tf.print(\"true=%s -- predict=%s\" % (true_future, predicted_future))\n",
    "    xx = x[0][:, 0].numpy()\n",
    "#     print(xx)\n",
    "    plot = show_plot([xx, true_future, predicted_future], 0, 'LSTM model')\n",
    "    plot.show()"
   ]
  },
  {
   "cell_type": "markdown",
   "metadata": {},
   "source": [
    "#### Model 2: Conv1D + LSTM"
   ]
  },
  {
   "cell_type": "code",
   "execution_count": null,
   "metadata": {},
   "outputs": [],
   "source": [
    "tf.keras.backend.set_floatx('float64')\n",
    "conv1d_lstm_model = tf.keras.models.Sequential()\n",
    "conv1d_lstm_model.add(tf.keras.layers.Conv1D(10, 5, padding='causal', input_shape=x_train_multi.shape[-2:]))\n",
    "conv1d_lstm_model.add(tf.keras.layers.LSTM(128, return_sequences=True, input_shape=x_train_multi.shape[-2:]))\n",
    "conv1d_lstm_model.add(tf.keras.layers.Dropout(0.1))\n",
    "conv1d_lstm_model.add(tf.keras.layers.LSTM(128))\n",
    "conv1d_lstm_model.add(tf.keras.layers.Dense(32))\n",
    "conv1d_lstm_model.add(tf.keras.layers.Dense(prediction_size))\n",
    "\n",
    "conv1d_lstm_model.compile(optimizer=optmzer_adam, loss='mse', metrics=['mean_absolute_percentage_error', 'mae'])\n",
    "conv1d_lstm_model.summary()"
   ]
  },
  {
   "cell_type": "code",
   "execution_count": null,
   "metadata": {},
   "outputs": [],
   "source": [
    "conv1d_lstm_model_checkpoint_path = \"conv1d_lstm_model/cp-{epoch:04d}.ckpt\"\n",
    "conv1d_lstm_model_checkpoint_dir = os.path.dirname(conv1d_lstm_model_checkpoint_path)\n",
    "\n",
    "# Loads the weights\n",
    "#load_saved_model_best_weights(conv1d_lstm_model_checkpoint_dir, conv1d_lstm_model_model)"
   ]
  },
  {
   "cell_type": "code",
   "execution_count": null,
   "metadata": {},
   "outputs": [],
   "source": [
    "early_stopping = tf.keras.callbacks.EarlyStopping(monitor='val_loss', patience=10, mode='min', restore_best_weights=True)\n",
    "\n",
    "# Create a callback that saves the model's weights\n",
    "conv1d_lstm_cp_callback = tf.keras.callbacks.ModelCheckpoint(filepath=conv1d_lstm_model_checkpoint_path,\n",
    "                                                 save_weights_only=False,\n",
    "                                                 monitor='val_loss',\n",
    "                                                 save_best_only=True,\n",
    "                                                 verbose=1)\n",
    "\n",
    "callback_reduce_lr = ReduceLROnPlateau(monitor='val_loss',\n",
    "                                       factor=0.1,\n",
    "                                       min_lr=1e-6,\n",
    "                                       patience=2,\n",
    "                                       verbose=1)\n",
    "\n",
    "conv1d_lstm_model_history = conv1d_lstm_model.fit(train_data_multi, epochs=50,\n",
    "                                          steps_per_epoch=10000,\n",
    "                                          validation_data=val_data_multi,\n",
    "                                          validation_steps=200,\n",
    "                                          callbacks=[early_stopping, callback_reduce_lr, conv1d_lstm_cp_callback]\n",
    "                                          )"
   ]
  },
  {
   "cell_type": "code",
   "execution_count": null,
   "metadata": {},
   "outputs": [],
   "source": [
    "# Evaluate the model on the validation data using `evaluate`\n",
    "print('\\n# Evaluate on validation data')\n",
    "results = conv1d_lstm_model.evaluate(val_data_multi, steps=200)"
   ]
  },
  {
   "cell_type": "code",
   "execution_count": null,
   "metadata": {
    "colab": {
     "base_uri": "https://localhost:8080/",
     "height": 390
    },
    "colab_type": "code",
    "id": "UKfQoBjQ5l7U",
    "outputId": "4d2a20b4-2d19-43a5-8b11-b966c197dec7"
   },
   "outputs": [],
   "source": [
    "plot_train_history(conv1d_lstm_model_history, 'conv1d_lstm_model Training and validation loss')"
   ]
  },
  {
   "cell_type": "markdown",
   "metadata": {
    "colab_type": "text",
    "id": "oDg94-yq4pas"
   },
   "source": [
    "#### Predict the future\n",
    "Let's now have a look at how well our network has learnt to predict the future."
   ]
  },
  {
   "cell_type": "code",
   "execution_count": null,
   "metadata": {
    "colab": {
     "base_uri": "https://localhost:8080/",
     "height": 1000
    },
    "colab_type": "code",
    "id": "dt22wq6fyIBU",
    "outputId": "18980e2a-bee1-4608-9182-f88994a314c0"
   },
   "outputs": [],
   "source": [
    "for x, y in val_data_multi.take(10):\n",
    "    true_future = percentage_from_category(y[0])\n",
    "    predicted_future = percentage_from_category(conv1d_lstm_model.predict(x)[0])\n",
    "    #arx = pr #tf.math.argmax(pr)\n",
    "    #print(\"true=%s -- predict=%s\" % (true_future, tf.print(arx))\n",
    "    tf.print(\"true=%s -- predict=%s\" % (true_future, predicted_future))\n",
    "    xx = x[0][:, 0].numpy()\n",
    "#     print(xx)\n",
    "    plot = show_plot([xx, true_future, predicted_future], 0, 'LSTM model')\n",
    "    plot.show()"
   ]
  },
  {
   "cell_type": "markdown",
   "metadata": {
    "colab_type": "text",
    "id": "pOzaIRYBhqwg"
   },
   "source": [
    "## Next steps\n",
    "This project was a quick attempt to predict Microsoft stock price movement using an RNN.\n",
    "\n",
    "We found that predicting next price based on past 60 minutes prices did better than what we expected. Adding more features didnt improve the prediction capability, and we suspect this is because of couple of things we may need to investigate and improve on:\n",
    "\n",
    "1- Data Normalization: stock price keeps moving up with time, and normalizing it relaitively to the mean of past prices may have not helped. We thing we may need to investigate alternative approach to dataset normalization, ex: moving average.\n",
    "\n",
    "2- The LSTM model itself: We didnt spend enough time with experimenting with different model architectures. This is something worth exploring.\n",
    "\n",
    "3- More training data and more model training: We have used only stock data from Jan 2019 up to May 2020, and we only trained for few epochs for the time constraint of yeilding some presentable results for this project. Next step would be to acquire more training data (10 years worth of stock data) and train the model way longer (few days).\n",
    "\n",
    "4- Tune the model: try smaller learning rate, or a different optimizer, etc."
   ]
  }
 ],
 "metadata": {
  "accelerator": "GPU",
  "colab": {
   "collapsed_sections": [],
   "include_colab_link": true,
   "name": "Microsoft_stock_price_prediction.ipynb",
   "provenance": [],
   "toc_visible": true
  },
  "environment": {
   "name": "tf22-gpu.2-2.m47",
   "type": "gcloud",
   "uri": "gcr.io/deeplearning-platform-release/tf22-gpu.2-2:m47"
  },
  "kernelspec": {
   "display_name": "Python 3",
   "language": "python",
   "name": "python3"
  },
  "language_info": {
   "codemirror_mode": {
    "name": "ipython",
    "version": 3
   },
   "file_extension": ".py",
   "mimetype": "text/x-python",
   "name": "python",
   "nbconvert_exporter": "python",
   "pygments_lexer": "ipython3",
   "version": "3.7.6"
  }
 },
 "nbformat": 4,
 "nbformat_minor": 4
}
